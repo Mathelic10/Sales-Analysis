{
  "nbformat": 4,
  "nbformat_minor": 0,
  "metadata": {
    "colab": {
      "name": "SalesAnalysis.ipynb",
      "provenance": [],
      "collapsed_sections": [],
      "toc_visible": true
    },
    "kernelspec": {
      "name": "python3",
      "display_name": "Python 3"
    },
    "language_info": {
      "name": "python"
    }
  },
  "cells": [
    {
      "cell_type": "markdown",
      "metadata": {
        "id": "I2o1AIEvfUTJ"
      },
      "source": [
        "# Sales Analysis"
      ]
    },
    {
      "cell_type": "markdown",
      "metadata": {
        "id": "DrRmunxAffKD"
      },
      "source": [
        "# import libraries"
      ]
    },
    {
      "cell_type": "code",
      "metadata": {
        "id": "CiN0dQeBfaQN"
      },
      "source": [
        "import pandas as pd\n",
        "import os\n"
      ],
      "execution_count": 4,
      "outputs": []
    },
    {
      "cell_type": "markdown",
      "metadata": {
        "id": "_KHyu0VcgBoq"
      },
      "source": [
        "# merging 12 months data into a single file (all_months_merged)\n",
        " "
      ]
    },
    {
      "cell_type": "code",
      "metadata": {
        "id": "ogVzm9e6fugO",
        "colab": {
          "base_uri": "https://localhost:8080/",
          "height": 52
        },
        "outputId": "cd6533d6-e7e3-452b-b680-8b7e1e070fc4"
      },
      "source": [
        "'''files = {file for file in os.listdir('/content/SalesData')}\n",
        "all_data = pd.DataFrame()\n",
        "for file in files:\n",
        "  df = pd.read_csv('/content/SalesData/'+file)\n",
        "  all_data = pd.concat([all_data , df])'''"
      ],
      "execution_count": 5,
      "outputs": [
        {
          "output_type": "execute_result",
          "data": {
            "application/vnd.google.colaboratory.intrinsic+json": {
              "type": "string"
            },
            "text/plain": [
              "\"files = {file for file in os.listdir('/content/SalesData')}\\nall_data = pd.DataFrame()\\nfor file in files:\\n  df = pd.read_csv('/content/SalesData/'+file)\\n  all_data = pd.concat([all_data , df])\""
            ]
          },
          "metadata": {},
          "execution_count": 5
        }
      ]
    },
    {
      "cell_type": "code",
      "metadata": {
        "id": "cyMCgEeoi-fp"
      },
      "source": [
        "#all_data.to_csv(\"all_months_merged.csv\", index = False)"
      ],
      "execution_count": 6,
      "outputs": []
    },
    {
      "cell_type": "code",
      "metadata": {
        "colab": {
          "base_uri": "https://localhost:8080/",
          "height": 204
        },
        "id": "lEfU5dASjbA5",
        "outputId": "833da52a-afd5-4d10-d222-6232bf7c57a6"
      },
      "source": [
        "complete_df = pd.read_csv('/content/all_months_merged.csv')\n",
        "complete_df.head()"
      ],
      "execution_count": 7,
      "outputs": [
        {
          "output_type": "execute_result",
          "data": {
            "text/html": [
              "<div>\n",
              "<style scoped>\n",
              "    .dataframe tbody tr th:only-of-type {\n",
              "        vertical-align: middle;\n",
              "    }\n",
              "\n",
              "    .dataframe tbody tr th {\n",
              "        vertical-align: top;\n",
              "    }\n",
              "\n",
              "    .dataframe thead th {\n",
              "        text-align: right;\n",
              "    }\n",
              "</style>\n",
              "<table border=\"1\" class=\"dataframe\">\n",
              "  <thead>\n",
              "    <tr style=\"text-align: right;\">\n",
              "      <th></th>\n",
              "      <th>Order ID</th>\n",
              "      <th>Product</th>\n",
              "      <th>Quantity Ordered</th>\n",
              "      <th>Price Each</th>\n",
              "      <th>Order Date</th>\n",
              "      <th>Purchase Address</th>\n",
              "    </tr>\n",
              "  </thead>\n",
              "  <tbody>\n",
              "    <tr>\n",
              "      <th>0</th>\n",
              "      <td>176558</td>\n",
              "      <td>USB-C Charging Cable</td>\n",
              "      <td>2</td>\n",
              "      <td>11.95</td>\n",
              "      <td>04/19/19 08:46</td>\n",
              "      <td>917 1st St, Dallas, TX 75001</td>\n",
              "    </tr>\n",
              "    <tr>\n",
              "      <th>1</th>\n",
              "      <td>NaN</td>\n",
              "      <td>NaN</td>\n",
              "      <td>NaN</td>\n",
              "      <td>NaN</td>\n",
              "      <td>NaN</td>\n",
              "      <td>NaN</td>\n",
              "    </tr>\n",
              "    <tr>\n",
              "      <th>2</th>\n",
              "      <td>176559</td>\n",
              "      <td>Bose SoundSport Headphones</td>\n",
              "      <td>1</td>\n",
              "      <td>99.99</td>\n",
              "      <td>04/07/19 22:30</td>\n",
              "      <td>682 Chestnut St, Boston, MA 02215</td>\n",
              "    </tr>\n",
              "    <tr>\n",
              "      <th>3</th>\n",
              "      <td>176560</td>\n",
              "      <td>Google Phone</td>\n",
              "      <td>1</td>\n",
              "      <td>600</td>\n",
              "      <td>04/12/19 14:38</td>\n",
              "      <td>669 Spruce St, Los Angeles, CA 90001</td>\n",
              "    </tr>\n",
              "    <tr>\n",
              "      <th>4</th>\n",
              "      <td>176560</td>\n",
              "      <td>Wired Headphones</td>\n",
              "      <td>1</td>\n",
              "      <td>11.99</td>\n",
              "      <td>04/12/19 14:38</td>\n",
              "      <td>669 Spruce St, Los Angeles, CA 90001</td>\n",
              "    </tr>\n",
              "  </tbody>\n",
              "</table>\n",
              "</div>"
            ],
            "text/plain": [
              "  Order ID  ...                      Purchase Address\n",
              "0   176558  ...          917 1st St, Dallas, TX 75001\n",
              "1      NaN  ...                                   NaN\n",
              "2   176559  ...     682 Chestnut St, Boston, MA 02215\n",
              "3   176560  ...  669 Spruce St, Los Angeles, CA 90001\n",
              "4   176560  ...  669 Spruce St, Los Angeles, CA 90001\n",
              "\n",
              "[5 rows x 6 columns]"
            ]
          },
          "metadata": {},
          "execution_count": 7
        }
      ]
    },
    {
      "cell_type": "markdown",
      "metadata": {
        "id": "GFQGQwYOsSH3"
      },
      "source": [
        "# Clean up Data"
      ]
    },
    {
      "cell_type": "markdown",
      "metadata": {
        "id": "g1V5aOG1wU6_"
      },
      "source": [
        "#### drop NaN rows"
      ]
    },
    {
      "cell_type": "code",
      "metadata": {
        "id": "XhTvkgUSnyDE"
      },
      "source": [
        "complete_df.dropna(inplace = True)"
      ],
      "execution_count": 8,
      "outputs": []
    },
    {
      "cell_type": "code",
      "metadata": {
        "colab": {
          "base_uri": "https://localhost:8080/"
        },
        "id": "W1Qihq3FsnQn",
        "outputId": "358b0632-7063-469f-82e0-bc298b1548cb"
      },
      "source": [
        "complete_df.isna().any()"
      ],
      "execution_count": 9,
      "outputs": [
        {
          "output_type": "execute_result",
          "data": {
            "text/plain": [
              "Order ID            False\n",
              "Product             False\n",
              "Quantity Ordered    False\n",
              "Price Each          False\n",
              "Order Date          False\n",
              "Purchase Address    False\n",
              "dtype: bool"
            ]
          },
          "metadata": {},
          "execution_count": 9
        }
      ]
    },
    {
      "cell_type": "markdown",
      "metadata": {
        "id": "FcF_kRziwc9d"
      },
      "source": [
        "#### drop instablity in the month column that is added\n"
      ]
    },
    {
      "cell_type": "code",
      "metadata": {
        "id": "WJF6TjxJw6O_"
      },
      "source": [
        "complete_df['Month'] = complete_df[\"Order Date\"].str[0:2]"
      ],
      "execution_count": 10,
      "outputs": []
    },
    {
      "cell_type": "code",
      "metadata": {
        "colab": {
          "base_uri": "https://localhost:8080/",
          "height": 204
        },
        "id": "rNCwztlftMt8",
        "outputId": "61390d1c-8039-4293-8a73-5c4d6c20ccd3"
      },
      "source": [
        "df1=complete_df[complete_df[\"Order Date\"].str[0:2] == 'Or']\n",
        "df1.head()"
      ],
      "execution_count": 11,
      "outputs": [
        {
          "output_type": "execute_result",
          "data": {
            "text/html": [
              "<div>\n",
              "<style scoped>\n",
              "    .dataframe tbody tr th:only-of-type {\n",
              "        vertical-align: middle;\n",
              "    }\n",
              "\n",
              "    .dataframe tbody tr th {\n",
              "        vertical-align: top;\n",
              "    }\n",
              "\n",
              "    .dataframe thead th {\n",
              "        text-align: right;\n",
              "    }\n",
              "</style>\n",
              "<table border=\"1\" class=\"dataframe\">\n",
              "  <thead>\n",
              "    <tr style=\"text-align: right;\">\n",
              "      <th></th>\n",
              "      <th>Order ID</th>\n",
              "      <th>Product</th>\n",
              "      <th>Quantity Ordered</th>\n",
              "      <th>Price Each</th>\n",
              "      <th>Order Date</th>\n",
              "      <th>Purchase Address</th>\n",
              "      <th>Month</th>\n",
              "    </tr>\n",
              "  </thead>\n",
              "  <tbody>\n",
              "    <tr>\n",
              "      <th>519</th>\n",
              "      <td>Order ID</td>\n",
              "      <td>Product</td>\n",
              "      <td>Quantity Ordered</td>\n",
              "      <td>Price Each</td>\n",
              "      <td>Order Date</td>\n",
              "      <td>Purchase Address</td>\n",
              "      <td>Or</td>\n",
              "    </tr>\n",
              "    <tr>\n",
              "      <th>1149</th>\n",
              "      <td>Order ID</td>\n",
              "      <td>Product</td>\n",
              "      <td>Quantity Ordered</td>\n",
              "      <td>Price Each</td>\n",
              "      <td>Order Date</td>\n",
              "      <td>Purchase Address</td>\n",
              "      <td>Or</td>\n",
              "    </tr>\n",
              "    <tr>\n",
              "      <th>1155</th>\n",
              "      <td>Order ID</td>\n",
              "      <td>Product</td>\n",
              "      <td>Quantity Ordered</td>\n",
              "      <td>Price Each</td>\n",
              "      <td>Order Date</td>\n",
              "      <td>Purchase Address</td>\n",
              "      <td>Or</td>\n",
              "    </tr>\n",
              "    <tr>\n",
              "      <th>2878</th>\n",
              "      <td>Order ID</td>\n",
              "      <td>Product</td>\n",
              "      <td>Quantity Ordered</td>\n",
              "      <td>Price Each</td>\n",
              "      <td>Order Date</td>\n",
              "      <td>Purchase Address</td>\n",
              "      <td>Or</td>\n",
              "    </tr>\n",
              "    <tr>\n",
              "      <th>2893</th>\n",
              "      <td>Order ID</td>\n",
              "      <td>Product</td>\n",
              "      <td>Quantity Ordered</td>\n",
              "      <td>Price Each</td>\n",
              "      <td>Order Date</td>\n",
              "      <td>Purchase Address</td>\n",
              "      <td>Or</td>\n",
              "    </tr>\n",
              "  </tbody>\n",
              "</table>\n",
              "</div>"
            ],
            "text/plain": [
              "      Order ID  Product  Quantity Ordered  ...  Order Date  Purchase Address Month\n",
              "519   Order ID  Product  Quantity Ordered  ...  Order Date  Purchase Address    Or\n",
              "1149  Order ID  Product  Quantity Ordered  ...  Order Date  Purchase Address    Or\n",
              "1155  Order ID  Product  Quantity Ordered  ...  Order Date  Purchase Address    Or\n",
              "2878  Order ID  Product  Quantity Ordered  ...  Order Date  Purchase Address    Or\n",
              "2893  Order ID  Product  Quantity Ordered  ...  Order Date  Purchase Address    Or\n",
              "\n",
              "[5 rows x 7 columns]"
            ]
          },
          "metadata": {},
          "execution_count": 11
        }
      ]
    },
    {
      "cell_type": "code",
      "metadata": {
        "colab": {
          "base_uri": "https://localhost:8080/"
        },
        "id": "9-jV8NrvtNDg",
        "outputId": "41b0756b-04fa-45c3-d806-2903d61d76a1"
      },
      "source": [
        "complete_df=complete_df[complete_df[\"Order Date\"].str[0:2] != 'Or']\n",
        "complete_df['Month'] = complete_df['Month'].astype('int32')"
      ],
      "execution_count": 12,
      "outputs": [
        {
          "output_type": "stream",
          "name": "stderr",
          "text": [
            "/usr/local/lib/python3.7/dist-packages/ipykernel_launcher.py:2: SettingWithCopyWarning: \n",
            "A value is trying to be set on a copy of a slice from a DataFrame.\n",
            "Try using .loc[row_indexer,col_indexer] = value instead\n",
            "\n",
            "See the caveats in the documentation: https://pandas.pydata.org/pandas-docs/stable/user_guide/indexing.html#returning-a-view-versus-a-copy\n",
            "  \n"
          ]
        }
      ]
    },
    {
      "cell_type": "code",
      "metadata": {
        "colab": {
          "base_uri": "https://localhost:8080/"
        },
        "id": "42WfNBictNMu",
        "outputId": "ae2e57e8-f3db-41fe-9d9b-5ebdfe332d3f"
      },
      "source": [
        "complete_df.Month.value_counts()\n",
        "# Month column is cleaned"
      ],
      "execution_count": 13,
      "outputs": [
        {
          "output_type": "execute_result",
          "data": {
            "text/plain": [
              "12    24984\n",
              "10    20282\n",
              "4     18279\n",
              "11    17573\n",
              "5     16566\n",
              "3     15153\n",
              "7     14293\n",
              "6     13554\n",
              "2     11975\n",
              "8     11961\n",
              "9     11621\n",
              "1      9709\n",
              "Name: Month, dtype: int64"
            ]
          },
          "metadata": {},
          "execution_count": 13
        }
      ]
    },
    {
      "cell_type": "markdown",
      "metadata": {
        "id": "k08BDmlQBp1p"
      },
      "source": [
        "#### change the datatype of Price Each and Quantity column"
      ]
    },
    {
      "cell_type": "code",
      "metadata": {
        "colab": {
          "base_uri": "https://localhost:8080/"
        },
        "id": "cZUljT5vtNU6",
        "outputId": "768d3b6c-c499-4f61-80ef-7dfe360465f4"
      },
      "source": [
        "complete_df['Price Each'] = complete_df['Price Each'].astype('float')\n",
        "complete_df['Quantity Ordered'] = complete_df['Quantity Ordered'].astype('int32')"
      ],
      "execution_count": 14,
      "outputs": [
        {
          "output_type": "stream",
          "name": "stderr",
          "text": [
            "/usr/local/lib/python3.7/dist-packages/ipykernel_launcher.py:1: SettingWithCopyWarning: \n",
            "A value is trying to be set on a copy of a slice from a DataFrame.\n",
            "Try using .loc[row_indexer,col_indexer] = value instead\n",
            "\n",
            "See the caveats in the documentation: https://pandas.pydata.org/pandas-docs/stable/user_guide/indexing.html#returning-a-view-versus-a-copy\n",
            "  \"\"\"Entry point for launching an IPython kernel.\n",
            "/usr/local/lib/python3.7/dist-packages/ipykernel_launcher.py:2: SettingWithCopyWarning: \n",
            "A value is trying to be set on a copy of a slice from a DataFrame.\n",
            "Try using .loc[row_indexer,col_indexer] = value instead\n",
            "\n",
            "See the caveats in the documentation: https://pandas.pydata.org/pandas-docs/stable/user_guide/indexing.html#returning-a-view-versus-a-copy\n",
            "  \n"
          ]
        }
      ]
    },
    {
      "cell_type": "code",
      "metadata": {
        "colab": {
          "base_uri": "https://localhost:8080/"
        },
        "id": "F6uvC1imtNcV",
        "outputId": "2e03a2f7-44a8-4422-db4b-f36b49e770cd"
      },
      "source": [
        "complete_df.info()"
      ],
      "execution_count": 15,
      "outputs": [
        {
          "output_type": "stream",
          "name": "stdout",
          "text": [
            "<class 'pandas.core.frame.DataFrame'>\n",
            "Int64Index: 185950 entries, 0 to 186849\n",
            "Data columns (total 7 columns):\n",
            " #   Column            Non-Null Count   Dtype  \n",
            "---  ------            --------------   -----  \n",
            " 0   Order ID          185950 non-null  object \n",
            " 1   Product           185950 non-null  object \n",
            " 2   Quantity Ordered  185950 non-null  int32  \n",
            " 3   Price Each        185950 non-null  float64\n",
            " 4   Order Date        185950 non-null  object \n",
            " 5   Purchase Address  185950 non-null  object \n",
            " 6   Month             185950 non-null  int32  \n",
            "dtypes: float64(1), int32(2), object(4)\n",
            "memory usage: 9.9+ MB\n"
          ]
        }
      ]
    },
    {
      "cell_type": "markdown",
      "metadata": {
        "id": "gBbP-flJoZ2X"
      },
      "source": [
        "# Total Sales for each month \n"
      ]
    },
    {
      "cell_type": "markdown",
      "metadata": {
        "id": "dkOwFGNsE_UJ"
      },
      "source": [
        "#### add a sale column (sale = Price Each * Quantity Ordered)"
      ]
    },
    {
      "cell_type": "code",
      "metadata": {
        "colab": {
          "base_uri": "https://localhost:8080/",
          "height": 306
        },
        "id": "MjCfhmJ9_HT3",
        "outputId": "e59b1e0f-8bd3-4970-8a34-81141f750a85"
      },
      "source": [
        "complete_df['Sale'] = complete_df['Price Each'].mul(complete_df['Quantity Ordered'])\n",
        "complete_df.head()"
      ],
      "execution_count": 16,
      "outputs": [
        {
          "output_type": "execute_result",
          "data": {
            "text/html": [
              "<div>\n",
              "<style scoped>\n",
              "    .dataframe tbody tr th:only-of-type {\n",
              "        vertical-align: middle;\n",
              "    }\n",
              "\n",
              "    .dataframe tbody tr th {\n",
              "        vertical-align: top;\n",
              "    }\n",
              "\n",
              "    .dataframe thead th {\n",
              "        text-align: right;\n",
              "    }\n",
              "</style>\n",
              "<table border=\"1\" class=\"dataframe\">\n",
              "  <thead>\n",
              "    <tr style=\"text-align: right;\">\n",
              "      <th></th>\n",
              "      <th>Order ID</th>\n",
              "      <th>Product</th>\n",
              "      <th>Quantity Ordered</th>\n",
              "      <th>Price Each</th>\n",
              "      <th>Order Date</th>\n",
              "      <th>Purchase Address</th>\n",
              "      <th>Month</th>\n",
              "      <th>Sale</th>\n",
              "    </tr>\n",
              "  </thead>\n",
              "  <tbody>\n",
              "    <tr>\n",
              "      <th>0</th>\n",
              "      <td>176558</td>\n",
              "      <td>USB-C Charging Cable</td>\n",
              "      <td>2</td>\n",
              "      <td>11.95</td>\n",
              "      <td>04/19/19 08:46</td>\n",
              "      <td>917 1st St, Dallas, TX 75001</td>\n",
              "      <td>4</td>\n",
              "      <td>23.90</td>\n",
              "    </tr>\n",
              "    <tr>\n",
              "      <th>2</th>\n",
              "      <td>176559</td>\n",
              "      <td>Bose SoundSport Headphones</td>\n",
              "      <td>1</td>\n",
              "      <td>99.99</td>\n",
              "      <td>04/07/19 22:30</td>\n",
              "      <td>682 Chestnut St, Boston, MA 02215</td>\n",
              "      <td>4</td>\n",
              "      <td>99.99</td>\n",
              "    </tr>\n",
              "    <tr>\n",
              "      <th>3</th>\n",
              "      <td>176560</td>\n",
              "      <td>Google Phone</td>\n",
              "      <td>1</td>\n",
              "      <td>600.00</td>\n",
              "      <td>04/12/19 14:38</td>\n",
              "      <td>669 Spruce St, Los Angeles, CA 90001</td>\n",
              "      <td>4</td>\n",
              "      <td>600.00</td>\n",
              "    </tr>\n",
              "    <tr>\n",
              "      <th>4</th>\n",
              "      <td>176560</td>\n",
              "      <td>Wired Headphones</td>\n",
              "      <td>1</td>\n",
              "      <td>11.99</td>\n",
              "      <td>04/12/19 14:38</td>\n",
              "      <td>669 Spruce St, Los Angeles, CA 90001</td>\n",
              "      <td>4</td>\n",
              "      <td>11.99</td>\n",
              "    </tr>\n",
              "    <tr>\n",
              "      <th>5</th>\n",
              "      <td>176561</td>\n",
              "      <td>Wired Headphones</td>\n",
              "      <td>1</td>\n",
              "      <td>11.99</td>\n",
              "      <td>04/30/19 09:27</td>\n",
              "      <td>333 8th St, Los Angeles, CA 90001</td>\n",
              "      <td>4</td>\n",
              "      <td>11.99</td>\n",
              "    </tr>\n",
              "  </tbody>\n",
              "</table>\n",
              "</div>"
            ],
            "text/plain": [
              "  Order ID                     Product  ...  Month    Sale\n",
              "0   176558        USB-C Charging Cable  ...      4   23.90\n",
              "2   176559  Bose SoundSport Headphones  ...      4   99.99\n",
              "3   176560                Google Phone  ...      4  600.00\n",
              "4   176560            Wired Headphones  ...      4   11.99\n",
              "5   176561            Wired Headphones  ...      4   11.99\n",
              "\n",
              "[5 rows x 8 columns]"
            ]
          },
          "metadata": {},
          "execution_count": 16
        }
      ]
    },
    {
      "cell_type": "markdown",
      "metadata": {
        "id": "0C7Zh9gA59rn"
      },
      "source": [
        "#### analyse and plot"
      ]
    },
    {
      "cell_type": "code",
      "metadata": {
        "id": "pvcRAmv6CRd-"
      },
      "source": [
        "monthly_sale = complete_df.groupby('Month').sum()"
      ],
      "execution_count": 17,
      "outputs": []
    },
    {
      "cell_type": "code",
      "metadata": {
        "colab": {
          "base_uri": "https://localhost:8080/",
          "height": 358
        },
        "id": "XsamuwYhChry",
        "outputId": "78016881-87e8-48b3-cb82-620e7ddb6bb6"
      },
      "source": [
        "import matplotlib.pyplot as plt\n",
        "\n",
        "plt.figure(figsize = (10,5))\n",
        "plt.title(\"MONTHLY SALE\", fontsize = 18, color = 'b')\n",
        "\n",
        "plt.xlabel(\"Months\", fontsize = 14)\n",
        "plt.ylabel(\"Sales in million (USD)\", fontsize = 14)\n",
        "\n",
        "months = range(1,13)\n",
        "\n",
        "plt.bar(months, monthly_sale['Sale']/10**6, color ='maroon')\n",
        "\n",
        "plt.xticks(months)\n",
        "plt.show()"
      ],
      "execution_count": 18,
      "outputs": [
        {
          "output_type": "display_data",
          "data": {
            "image/png": "[encoded data removed]",
            "text/plain": [
              "<Figure size 720x360 with 1 Axes>"
            ]
          },
          "metadata": {
            "needs_background": "light"
          }
        }
      ]
    },
    {
      "cell_type": "code",
      "metadata": {
        "colab": {
          "base_uri": "https://localhost:8080/"
        },
        "id": "wxRGhfEXKod5",
        "outputId": "5165f897-e7c4-48ec-91df-ed4f28bf94bf"
      },
      "source": [
        "#code to change the month's format (like 2 to February)\n",
        "\n",
        "import datetime, calendar\n",
        "months = [x for x in range(1,13)]\n",
        "\n",
        "p=[]\n",
        "for a in range(1,13):\n",
        "  p.append(calendar.month_name[a])\n",
        "\n",
        "\n",
        "z = zip(months, p)\n",
        "month_dictt = dict(z)\n",
        "print(month_dictt)\n",
        "print(month_dictt.values())"
      ],
      "execution_count": 19,
      "outputs": [
        {
          "output_type": "stream",
          "name": "stdout",
          "text": [
            "{1: 'January', 2: 'February', 3: 'March', 4: 'April', 5: 'May', 6: 'June', 7: 'July', 8: 'August', 9: 'September', 10: 'October', 11: 'November', 12: 'December'}\n",
            "dict_values(['January', 'February', 'March', 'April', 'May', 'June', 'July', 'August', 'September', 'October', 'November', 'December'])\n"
          ]
        }
      ]
    },
    {
      "cell_type": "markdown",
      "metadata": {
        "id": "Sn4P-8dC1KG8"
      },
      "source": [
        "# City Sales "
      ]
    },
    {
      "cell_type": "code",
      "metadata": {
        "colab": {
          "base_uri": "https://localhost:8080/",
          "height": 210
        },
        "id": "7iKzO_aBx0If",
        "outputId": "aee01ae3-e9ed-4012-bc14-f2897d63ae42"
      },
      "source": [
        "complete_df.head(3)"
      ],
      "execution_count": 20,
      "outputs": [
        {
          "output_type": "execute_result",
          "data": {
            "text/html": [
              "<div>\n",
              "<style scoped>\n",
              "    .dataframe tbody tr th:only-of-type {\n",
              "        vertical-align: middle;\n",
              "    }\n",
              "\n",
              "    .dataframe tbody tr th {\n",
              "        vertical-align: top;\n",
              "    }\n",
              "\n",
              "    .dataframe thead th {\n",
              "        text-align: right;\n",
              "    }\n",
              "</style>\n",
              "<table border=\"1\" class=\"dataframe\">\n",
              "  <thead>\n",
              "    <tr style=\"text-align: right;\">\n",
              "      <th></th>\n",
              "      <th>Order ID</th>\n",
              "      <th>Product</th>\n",
              "      <th>Quantity Ordered</th>\n",
              "      <th>Price Each</th>\n",
              "      <th>Order Date</th>\n",
              "      <th>Purchase Address</th>\n",
              "      <th>Month</th>\n",
              "      <th>Sale</th>\n",
              "    </tr>\n",
              "  </thead>\n",
              "  <tbody>\n",
              "    <tr>\n",
              "      <th>0</th>\n",
              "      <td>176558</td>\n",
              "      <td>USB-C Charging Cable</td>\n",
              "      <td>2</td>\n",
              "      <td>11.95</td>\n",
              "      <td>04/19/19 08:46</td>\n",
              "      <td>917 1st St, Dallas, TX 75001</td>\n",
              "      <td>4</td>\n",
              "      <td>23.90</td>\n",
              "    </tr>\n",
              "    <tr>\n",
              "      <th>2</th>\n",
              "      <td>176559</td>\n",
              "      <td>Bose SoundSport Headphones</td>\n",
              "      <td>1</td>\n",
              "      <td>99.99</td>\n",
              "      <td>04/07/19 22:30</td>\n",
              "      <td>682 Chestnut St, Boston, MA 02215</td>\n",
              "      <td>4</td>\n",
              "      <td>99.99</td>\n",
              "    </tr>\n",
              "    <tr>\n",
              "      <th>3</th>\n",
              "      <td>176560</td>\n",
              "      <td>Google Phone</td>\n",
              "      <td>1</td>\n",
              "      <td>600.00</td>\n",
              "      <td>04/12/19 14:38</td>\n",
              "      <td>669 Spruce St, Los Angeles, CA 90001</td>\n",
              "      <td>4</td>\n",
              "      <td>600.00</td>\n",
              "    </tr>\n",
              "  </tbody>\n",
              "</table>\n",
              "</div>"
            ],
            "text/plain": [
              "  Order ID                     Product  ...  Month    Sale\n",
              "0   176558        USB-C Charging Cable  ...      4   23.90\n",
              "2   176559  Bose SoundSport Headphones  ...      4   99.99\n",
              "3   176560                Google Phone  ...      4  600.00\n",
              "\n",
              "[3 rows x 8 columns]"
            ]
          },
          "metadata": {},
          "execution_count": 20
        }
      ]
    },
    {
      "cell_type": "markdown",
      "metadata": {
        "id": "prPb9OMX5tsv"
      },
      "source": [
        "#### Create a seperate and dedicated dataframe"
      ]
    },
    {
      "cell_type": "code",
      "metadata": {
        "colab": {
          "base_uri": "https://localhost:8080/",
          "height": 323
        },
        "id": "bQ9J1l8P1I5V",
        "outputId": "f16cb1bd-ceee-44ad-9783-9dbc043119fd"
      },
      "source": [
        "complete_df[['Street', 'City', 'State(ZIP)']] = complete_df['Purchase Address'].str.split(',' , expand = True)\n",
        "complete_df.head()"
      ],
      "execution_count": 21,
      "outputs": [
        {
          "output_type": "execute_result",
          "data": {
            "text/html": [
              "<div>\n",
              "<style scoped>\n",
              "    .dataframe tbody tr th:only-of-type {\n",
              "        vertical-align: middle;\n",
              "    }\n",
              "\n",
              "    .dataframe tbody tr th {\n",
              "        vertical-align: top;\n",
              "    }\n",
              "\n",
              "    .dataframe thead th {\n",
              "        text-align: right;\n",
              "    }\n",
              "</style>\n",
              "<table border=\"1\" class=\"dataframe\">\n",
              "  <thead>\n",
              "    <tr style=\"text-align: right;\">\n",
              "      <th></th>\n",
              "      <th>Order ID</th>\n",
              "      <th>Product</th>\n",
              "      <th>Quantity Ordered</th>\n",
              "      <th>Price Each</th>\n",
              "      <th>Order Date</th>\n",
              "      <th>Purchase Address</th>\n",
              "      <th>Month</th>\n",
              "      <th>Sale</th>\n",
              "      <th>Street</th>\n",
              "      <th>City</th>\n",
              "      <th>State(ZIP)</th>\n",
              "    </tr>\n",
              "  </thead>\n",
              "  <tbody>\n",
              "    <tr>\n",
              "      <th>0</th>\n",
              "      <td>176558</td>\n",
              "      <td>USB-C Charging Cable</td>\n",
              "      <td>2</td>\n",
              "      <td>11.95</td>\n",
              "      <td>04/19/19 08:46</td>\n",
              "      <td>917 1st St, Dallas, TX 75001</td>\n",
              "      <td>4</td>\n",
              "      <td>23.90</td>\n",
              "      <td>917 1st St</td>\n",
              "      <td>Dallas</td>\n",
              "      <td>TX 75001</td>\n",
              "    </tr>\n",
              "    <tr>\n",
              "      <th>2</th>\n",
              "      <td>176559</td>\n",
              "      <td>Bose SoundSport Headphones</td>\n",
              "      <td>1</td>\n",
              "      <td>99.99</td>\n",
              "      <td>04/07/19 22:30</td>\n",
              "      <td>682 Chestnut St, Boston, MA 02215</td>\n",
              "      <td>4</td>\n",
              "      <td>99.99</td>\n",
              "      <td>682 Chestnut St</td>\n",
              "      <td>Boston</td>\n",
              "      <td>MA 02215</td>\n",
              "    </tr>\n",
              "    <tr>\n",
              "      <th>3</th>\n",
              "      <td>176560</td>\n",
              "      <td>Google Phone</td>\n",
              "      <td>1</td>\n",
              "      <td>600.00</td>\n",
              "      <td>04/12/19 14:38</td>\n",
              "      <td>669 Spruce St, Los Angeles, CA 90001</td>\n",
              "      <td>4</td>\n",
              "      <td>600.00</td>\n",
              "      <td>669 Spruce St</td>\n",
              "      <td>Los Angeles</td>\n",
              "      <td>CA 90001</td>\n",
              "    </tr>\n",
              "    <tr>\n",
              "      <th>4</th>\n",
              "      <td>176560</td>\n",
              "      <td>Wired Headphones</td>\n",
              "      <td>1</td>\n",
              "      <td>11.99</td>\n",
              "      <td>04/12/19 14:38</td>\n",
              "      <td>669 Spruce St, Los Angeles, CA 90001</td>\n",
              "      <td>4</td>\n",
              "      <td>11.99</td>\n",
              "      <td>669 Spruce St</td>\n",
              "      <td>Los Angeles</td>\n",
              "      <td>CA 90001</td>\n",
              "    </tr>\n",
              "    <tr>\n",
              "      <th>5</th>\n",
              "      <td>176561</td>\n",
              "      <td>Wired Headphones</td>\n",
              "      <td>1</td>\n",
              "      <td>11.99</td>\n",
              "      <td>04/30/19 09:27</td>\n",
              "      <td>333 8th St, Los Angeles, CA 90001</td>\n",
              "      <td>4</td>\n",
              "      <td>11.99</td>\n",
              "      <td>333 8th St</td>\n",
              "      <td>Los Angeles</td>\n",
              "      <td>CA 90001</td>\n",
              "    </tr>\n",
              "  </tbody>\n",
              "</table>\n",
              "</div>"
            ],
            "text/plain": [
              "  Order ID                     Product  ...          City  State(ZIP)\n",
              "0   176558        USB-C Charging Cable  ...        Dallas    TX 75001\n",
              "2   176559  Bose SoundSport Headphones  ...        Boston    MA 02215\n",
              "3   176560                Google Phone  ...   Los Angeles    CA 90001\n",
              "4   176560            Wired Headphones  ...   Los Angeles    CA 90001\n",
              "5   176561            Wired Headphones  ...   Los Angeles    CA 90001\n",
              "\n",
              "[5 rows x 11 columns]"
            ]
          },
          "metadata": {},
          "execution_count": 21
        }
      ]
    },
    {
      "cell_type": "code",
      "metadata": {
        "colab": {
          "base_uri": "https://localhost:8080/",
          "height": 131
        },
        "id": "fyzNnpPgjcwH",
        "outputId": "80d9eee1-51b4-4367-c90e-8b9844385b27"
      },
      "source": [
        "complete_df.sample()"
      ],
      "execution_count": 28,
      "outputs": [
        {
          "output_type": "execute_result",
          "data": {
            "text/html": [
              "<div>\n",
              "<style scoped>\n",
              "    .dataframe tbody tr th:only-of-type {\n",
              "        vertical-align: middle;\n",
              "    }\n",
              "\n",
              "    .dataframe tbody tr th {\n",
              "        vertical-align: top;\n",
              "    }\n",
              "\n",
              "    .dataframe thead th {\n",
              "        text-align: right;\n",
              "    }\n",
              "</style>\n",
              "<table border=\"1\" class=\"dataframe\">\n",
              "  <thead>\n",
              "    <tr style=\"text-align: right;\">\n",
              "      <th></th>\n",
              "      <th>Order ID</th>\n",
              "      <th>Product</th>\n",
              "      <th>Quantity Ordered</th>\n",
              "      <th>Price Each</th>\n",
              "      <th>Order Date</th>\n",
              "      <th>Purchase Address</th>\n",
              "      <th>Month</th>\n",
              "      <th>Sale</th>\n",
              "      <th>Street</th>\n",
              "      <th>City</th>\n",
              "      <th>State(ZIP)</th>\n",
              "    </tr>\n",
              "  </thead>\n",
              "  <tbody>\n",
              "    <tr>\n",
              "      <th>65481</th>\n",
              "      <td>297197</td>\n",
              "      <td>AA Batteries (4-pack)</td>\n",
              "      <td>1</td>\n",
              "      <td>3.84</td>\n",
              "      <td>12/19/19 06:40</td>\n",
              "      <td>363 Washington St, San Francisco, CA 94016</td>\n",
              "      <td>12</td>\n",
              "      <td>3.84</td>\n",
              "      <td>363 Washington St</td>\n",
              "      <td>San Francisco</td>\n",
              "      <td>CA 94016</td>\n",
              "    </tr>\n",
              "  </tbody>\n",
              "</table>\n",
              "</div>"
            ],
            "text/plain": [
              "      Order ID                Product  ...            City  State(ZIP)\n",
              "65481   297197  AA Batteries (4-pack)  ...   San Francisco    CA 94016\n",
              "\n",
              "[1 rows x 11 columns]"
            ]
          },
          "metadata": {},
          "execution_count": 28
        }
      ]
    },
    {
      "cell_type": "code",
      "metadata": {
        "colab": {
          "base_uri": "https://localhost:8080/",
          "height": 295
        },
        "id": "-oxAY8uDXX6W",
        "outputId": "79cb8fc6-06fb-4d92-eefb-3bac2a048e1b"
      },
      "source": [
        "complete_df[['col1','col2','col3']] = complete_df['State(ZIP)'].str.split(' ' , expand = True)\n",
        "complete_df.head(3)"
      ],
      "execution_count": 30,
      "outputs": [
        {
          "output_type": "execute_result",
          "data": {
            "text/html": [
              "<div>\n",
              "<style scoped>\n",
              "    .dataframe tbody tr th:only-of-type {\n",
              "        vertical-align: middle;\n",
              "    }\n",
              "\n",
              "    .dataframe tbody tr th {\n",
              "        vertical-align: top;\n",
              "    }\n",
              "\n",
              "    .dataframe thead th {\n",
              "        text-align: right;\n",
              "    }\n",
              "</style>\n",
              "<table border=\"1\" class=\"dataframe\">\n",
              "  <thead>\n",
              "    <tr style=\"text-align: right;\">\n",
              "      <th></th>\n",
              "      <th>Order ID</th>\n",
              "      <th>Product</th>\n",
              "      <th>Quantity Ordered</th>\n",
              "      <th>Price Each</th>\n",
              "      <th>Order Date</th>\n",
              "      <th>Purchase Address</th>\n",
              "      <th>Month</th>\n",
              "      <th>Sale</th>\n",
              "      <th>Street</th>\n",
              "      <th>City</th>\n",
              "      <th>State(ZIP)</th>\n",
              "      <th>col1</th>\n",
              "      <th>col2</th>\n",
              "      <th>col3</th>\n",
              "    </tr>\n",
              "  </thead>\n",
              "  <tbody>\n",
              "    <tr>\n",
              "      <th>0</th>\n",
              "      <td>176558</td>\n",
              "      <td>USB-C Charging Cable</td>\n",
              "      <td>2</td>\n",
              "      <td>11.95</td>\n",
              "      <td>04/19/19 08:46</td>\n",
              "      <td>917 1st St, Dallas, TX 75001</td>\n",
              "      <td>4</td>\n",
              "      <td>23.90</td>\n",
              "      <td>917 1st St</td>\n",
              "      <td>Dallas</td>\n",
              "      <td>TX 75001</td>\n",
              "      <td></td>\n",
              "      <td>TX</td>\n",
              "      <td>75001</td>\n",
              "    </tr>\n",
              "    <tr>\n",
              "      <th>2</th>\n",
              "      <td>176559</td>\n",
              "      <td>Bose SoundSport Headphones</td>\n",
              "      <td>1</td>\n",
              "      <td>99.99</td>\n",
              "      <td>04/07/19 22:30</td>\n",
              "      <td>682 Chestnut St, Boston, MA 02215</td>\n",
              "      <td>4</td>\n",
              "      <td>99.99</td>\n",
              "      <td>682 Chestnut St</td>\n",
              "      <td>Boston</td>\n",
              "      <td>MA 02215</td>\n",
              "      <td></td>\n",
              "      <td>MA</td>\n",
              "      <td>02215</td>\n",
              "    </tr>\n",
              "    <tr>\n",
              "      <th>3</th>\n",
              "      <td>176560</td>\n",
              "      <td>Google Phone</td>\n",
              "      <td>1</td>\n",
              "      <td>600.00</td>\n",
              "      <td>04/12/19 14:38</td>\n",
              "      <td>669 Spruce St, Los Angeles, CA 90001</td>\n",
              "      <td>4</td>\n",
              "      <td>600.00</td>\n",
              "      <td>669 Spruce St</td>\n",
              "      <td>Los Angeles</td>\n",
              "      <td>CA 90001</td>\n",
              "      <td></td>\n",
              "      <td>CA</td>\n",
              "      <td>90001</td>\n",
              "    </tr>\n",
              "  </tbody>\n",
              "</table>\n",
              "</div>"
            ],
            "text/plain": [
              "  Order ID                     Product  Quantity Ordered  ...  col1 col2   col3\n",
              "0   176558        USB-C Charging Cable                 2  ...         TX  75001\n",
              "2   176559  Bose SoundSport Headphones                 1  ...         MA  02215\n",
              "3   176560                Google Phone                 1  ...         CA  90001\n",
              "\n",
              "[3 rows x 14 columns]"
            ]
          },
          "metadata": {},
          "execution_count": 30
        }
      ]
    },
    {
      "cell_type": "code",
      "metadata": {
        "colab": {
          "base_uri": "https://localhost:8080/",
          "height": 210
        },
        "id": "apL5ZEt04iEt",
        "outputId": "5131715d-319d-41db-9929-a43aa3422b1f"
      },
      "source": [
        "#drop unrequire columns as we only need city and state columns\n",
        "\n",
        "city_df = complete_df.drop(columns = ['col1','col3','State(ZIP)'], axis=0)\n",
        "city_df.head(3)\n"
      ],
      "execution_count": 31,
      "outputs": [
        {
          "output_type": "execute_result",
          "data": {
            "text/html": [
              "<div>\n",
              "<style scoped>\n",
              "    .dataframe tbody tr th:only-of-type {\n",
              "        vertical-align: middle;\n",
              "    }\n",
              "\n",
              "    .dataframe tbody tr th {\n",
              "        vertical-align: top;\n",
              "    }\n",
              "\n",
              "    .dataframe thead th {\n",
              "        text-align: right;\n",
              "    }\n",
              "</style>\n",
              "<table border=\"1\" class=\"dataframe\">\n",
              "  <thead>\n",
              "    <tr style=\"text-align: right;\">\n",
              "      <th></th>\n",
              "      <th>Order ID</th>\n",
              "      <th>Product</th>\n",
              "      <th>Quantity Ordered</th>\n",
              "      <th>Price Each</th>\n",
              "      <th>Order Date</th>\n",
              "      <th>Purchase Address</th>\n",
              "      <th>Month</th>\n",
              "      <th>Sale</th>\n",
              "      <th>Street</th>\n",
              "      <th>City</th>\n",
              "      <th>col2</th>\n",
              "    </tr>\n",
              "  </thead>\n",
              "  <tbody>\n",
              "    <tr>\n",
              "      <th>0</th>\n",
              "      <td>176558</td>\n",
              "      <td>USB-C Charging Cable</td>\n",
              "      <td>2</td>\n",
              "      <td>11.95</td>\n",
              "      <td>04/19/19 08:46</td>\n",
              "      <td>917 1st St, Dallas, TX 75001</td>\n",
              "      <td>4</td>\n",
              "      <td>23.90</td>\n",
              "      <td>917 1st St</td>\n",
              "      <td>Dallas</td>\n",
              "      <td>TX</td>\n",
              "    </tr>\n",
              "    <tr>\n",
              "      <th>2</th>\n",
              "      <td>176559</td>\n",
              "      <td>Bose SoundSport Headphones</td>\n",
              "      <td>1</td>\n",
              "      <td>99.99</td>\n",
              "      <td>04/07/19 22:30</td>\n",
              "      <td>682 Chestnut St, Boston, MA 02215</td>\n",
              "      <td>4</td>\n",
              "      <td>99.99</td>\n",
              "      <td>682 Chestnut St</td>\n",
              "      <td>Boston</td>\n",
              "      <td>MA</td>\n",
              "    </tr>\n",
              "    <tr>\n",
              "      <th>3</th>\n",
              "      <td>176560</td>\n",
              "      <td>Google Phone</td>\n",
              "      <td>1</td>\n",
              "      <td>600.00</td>\n",
              "      <td>04/12/19 14:38</td>\n",
              "      <td>669 Spruce St, Los Angeles, CA 90001</td>\n",
              "      <td>4</td>\n",
              "      <td>600.00</td>\n",
              "      <td>669 Spruce St</td>\n",
              "      <td>Los Angeles</td>\n",
              "      <td>CA</td>\n",
              "    </tr>\n",
              "  </tbody>\n",
              "</table>\n",
              "</div>"
            ],
            "text/plain": [
              "  Order ID                     Product  ...          City  col2\n",
              "0   176558        USB-C Charging Cable  ...        Dallas    TX\n",
              "2   176559  Bose SoundSport Headphones  ...        Boston    MA\n",
              "3   176560                Google Phone  ...   Los Angeles    CA\n",
              "\n",
              "[3 rows x 11 columns]"
            ]
          },
          "metadata": {},
          "execution_count": 31
        }
      ]
    },
    {
      "cell_type": "code",
      "metadata": {
        "colab": {
          "base_uri": "https://localhost:8080/",
          "height": 391
        },
        "id": "xnIui2SmAGnX",
        "outputId": "f4c3b5a1-dcb9-439c-9aab-8b09d729a953"
      },
      "source": [
        "city_df['City(State)'] = city_df['City'] + '(' + city_df['col2'] + ')'\n",
        "city_df.head()"
      ],
      "execution_count": 32,
      "outputs": [
        {
          "output_type": "execute_result",
          "data": {
            "text/html": [
              "<div>\n",
              "<style scoped>\n",
              "    .dataframe tbody tr th:only-of-type {\n",
              "        vertical-align: middle;\n",
              "    }\n",
              "\n",
              "    .dataframe tbody tr th {\n",
              "        vertical-align: top;\n",
              "    }\n",
              "\n",
              "    .dataframe thead th {\n",
              "        text-align: right;\n",
              "    }\n",
              "</style>\n",
              "<table border=\"1\" class=\"dataframe\">\n",
              "  <thead>\n",
              "    <tr style=\"text-align: right;\">\n",
              "      <th></th>\n",
              "      <th>Order ID</th>\n",
              "      <th>Product</th>\n",
              "      <th>Quantity Ordered</th>\n",
              "      <th>Price Each</th>\n",
              "      <th>Order Date</th>\n",
              "      <th>Purchase Address</th>\n",
              "      <th>Month</th>\n",
              "      <th>Sale</th>\n",
              "      <th>Street</th>\n",
              "      <th>City</th>\n",
              "      <th>col2</th>\n",
              "      <th>City(State)</th>\n",
              "    </tr>\n",
              "  </thead>\n",
              "  <tbody>\n",
              "    <tr>\n",
              "      <th>0</th>\n",
              "      <td>176558</td>\n",
              "      <td>USB-C Charging Cable</td>\n",
              "      <td>2</td>\n",
              "      <td>11.95</td>\n",
              "      <td>04/19/19 08:46</td>\n",
              "      <td>917 1st St, Dallas, TX 75001</td>\n",
              "      <td>4</td>\n",
              "      <td>23.90</td>\n",
              "      <td>917 1st St</td>\n",
              "      <td>Dallas</td>\n",
              "      <td>TX</td>\n",
              "      <td>Dallas(TX)</td>\n",
              "    </tr>\n",
              "    <tr>\n",
              "      <th>2</th>\n",
              "      <td>176559</td>\n",
              "      <td>Bose SoundSport Headphones</td>\n",
              "      <td>1</td>\n",
              "      <td>99.99</td>\n",
              "      <td>04/07/19 22:30</td>\n",
              "      <td>682 Chestnut St, Boston, MA 02215</td>\n",
              "      <td>4</td>\n",
              "      <td>99.99</td>\n",
              "      <td>682 Chestnut St</td>\n",
              "      <td>Boston</td>\n",
              "      <td>MA</td>\n",
              "      <td>Boston(MA)</td>\n",
              "    </tr>\n",
              "    <tr>\n",
              "      <th>3</th>\n",
              "      <td>176560</td>\n",
              "      <td>Google Phone</td>\n",
              "      <td>1</td>\n",
              "      <td>600.00</td>\n",
              "      <td>04/12/19 14:38</td>\n",
              "      <td>669 Spruce St, Los Angeles, CA 90001</td>\n",
              "      <td>4</td>\n",
              "      <td>600.00</td>\n",
              "      <td>669 Spruce St</td>\n",
              "      <td>Los Angeles</td>\n",
              "      <td>CA</td>\n",
              "      <td>Los Angeles(CA)</td>\n",
              "    </tr>\n",
              "    <tr>\n",
              "      <th>4</th>\n",
              "      <td>176560</td>\n",
              "      <td>Wired Headphones</td>\n",
              "      <td>1</td>\n",
              "      <td>11.99</td>\n",
              "      <td>04/12/19 14:38</td>\n",
              "      <td>669 Spruce St, Los Angeles, CA 90001</td>\n",
              "      <td>4</td>\n",
              "      <td>11.99</td>\n",
              "      <td>669 Spruce St</td>\n",
              "      <td>Los Angeles</td>\n",
              "      <td>CA</td>\n",
              "      <td>Los Angeles(CA)</td>\n",
              "    </tr>\n",
              "    <tr>\n",
              "      <th>5</th>\n",
              "      <td>176561</td>\n",
              "      <td>Wired Headphones</td>\n",
              "      <td>1</td>\n",
              "      <td>11.99</td>\n",
              "      <td>04/30/19 09:27</td>\n",
              "      <td>333 8th St, Los Angeles, CA 90001</td>\n",
              "      <td>4</td>\n",
              "      <td>11.99</td>\n",
              "      <td>333 8th St</td>\n",
              "      <td>Los Angeles</td>\n",
              "      <td>CA</td>\n",
              "      <td>Los Angeles(CA)</td>\n",
              "    </tr>\n",
              "  </tbody>\n",
              "</table>\n",
              "</div>"
            ],
            "text/plain": [
              "  Order ID                     Product  ...  col2       City(State)\n",
              "0   176558        USB-C Charging Cable  ...    TX        Dallas(TX)\n",
              "2   176559  Bose SoundSport Headphones  ...    MA        Boston(MA)\n",
              "3   176560                Google Phone  ...    CA   Los Angeles(CA)\n",
              "4   176560            Wired Headphones  ...    CA   Los Angeles(CA)\n",
              "5   176561            Wired Headphones  ...    CA   Los Angeles(CA)\n",
              "\n",
              "[5 rows x 12 columns]"
            ]
          },
          "metadata": {},
          "execution_count": 32
        }
      ]
    },
    {
      "cell_type": "markdown",
      "metadata": {
        "id": "JspikuJU76RY"
      },
      "source": [
        "#### analyse and plot"
      ]
    },
    {
      "cell_type": "code",
      "metadata": {
        "colab": {
          "base_uri": "https://localhost:8080/",
          "height": 390
        },
        "id": "FfFLh3Q95eCa",
        "outputId": "27eba944-18e2-4cf0-83d7-16f5d0e5a247"
      },
      "source": [
        "city_sale = city_df.groupby('City(State)').sum()\n",
        "city_sale.sort_values('Sale')"
      ],
      "execution_count": 33,
      "outputs": [
        {
          "output_type": "execute_result",
          "data": {
            "text/html": [
              "<div>\n",
              "<style scoped>\n",
              "    .dataframe tbody tr th:only-of-type {\n",
              "        vertical-align: middle;\n",
              "    }\n",
              "\n",
              "    .dataframe tbody tr th {\n",
              "        vertical-align: top;\n",
              "    }\n",
              "\n",
              "    .dataframe thead th {\n",
              "        text-align: right;\n",
              "    }\n",
              "</style>\n",
              "<table border=\"1\" class=\"dataframe\">\n",
              "  <thead>\n",
              "    <tr style=\"text-align: right;\">\n",
              "      <th></th>\n",
              "      <th>Quantity Ordered</th>\n",
              "      <th>Price Each</th>\n",
              "      <th>Month</th>\n",
              "      <th>Sale</th>\n",
              "    </tr>\n",
              "    <tr>\n",
              "      <th>City(State)</th>\n",
              "      <th></th>\n",
              "      <th></th>\n",
              "      <th></th>\n",
              "      <th></th>\n",
              "    </tr>\n",
              "  </thead>\n",
              "  <tbody>\n",
              "    <tr>\n",
              "      <th>Portland(ME)</th>\n",
              "      <td>2750</td>\n",
              "      <td>4.471893e+05</td>\n",
              "      <td>17144</td>\n",
              "      <td>4.497583e+05</td>\n",
              "    </tr>\n",
              "    <tr>\n",
              "      <th>Austin(TX)</th>\n",
              "      <td>11153</td>\n",
              "      <td>1.809874e+06</td>\n",
              "      <td>69829</td>\n",
              "      <td>1.819582e+06</td>\n",
              "    </tr>\n",
              "    <tr>\n",
              "      <th>Portland(OR)</th>\n",
              "      <td>11303</td>\n",
              "      <td>1.860558e+06</td>\n",
              "      <td>70621</td>\n",
              "      <td>1.870732e+06</td>\n",
              "    </tr>\n",
              "    <tr>\n",
              "      <th>Seattle(WA)</th>\n",
              "      <td>16553</td>\n",
              "      <td>2.733296e+06</td>\n",
              "      <td>104941</td>\n",
              "      <td>2.747755e+06</td>\n",
              "    </tr>\n",
              "    <tr>\n",
              "      <th>Dallas(TX)</th>\n",
              "      <td>16730</td>\n",
              "      <td>2.752628e+06</td>\n",
              "      <td>104620</td>\n",
              "      <td>2.767975e+06</td>\n",
              "    </tr>\n",
              "    <tr>\n",
              "      <th>Atlanta(GA)</th>\n",
              "      <td>16602</td>\n",
              "      <td>2.779908e+06</td>\n",
              "      <td>104794</td>\n",
              "      <td>2.795499e+06</td>\n",
              "    </tr>\n",
              "    <tr>\n",
              "      <th>Boston(MA)</th>\n",
              "      <td>22528</td>\n",
              "      <td>3.637410e+06</td>\n",
              "      <td>141112</td>\n",
              "      <td>3.661642e+06</td>\n",
              "    </tr>\n",
              "    <tr>\n",
              "      <th>New York City(NY)</th>\n",
              "      <td>27932</td>\n",
              "      <td>4.635371e+06</td>\n",
              "      <td>175741</td>\n",
              "      <td>4.664317e+06</td>\n",
              "    </tr>\n",
              "    <tr>\n",
              "      <th>Los Angeles(CA)</th>\n",
              "      <td>33289</td>\n",
              "      <td>5.421435e+06</td>\n",
              "      <td>208325</td>\n",
              "      <td>5.452571e+06</td>\n",
              "    </tr>\n",
              "    <tr>\n",
              "      <th>San Francisco(CA)</th>\n",
              "      <td>50239</td>\n",
              "      <td>8.211462e+06</td>\n",
              "      <td>315520</td>\n",
              "      <td>8.262204e+06</td>\n",
              "    </tr>\n",
              "  </tbody>\n",
              "</table>\n",
              "</div>"
            ],
            "text/plain": [
              "                    Quantity Ordered    Price Each   Month          Sale\n",
              "City(State)                                                             \n",
              " Portland(ME)                   2750  4.471893e+05   17144  4.497583e+05\n",
              " Austin(TX)                    11153  1.809874e+06   69829  1.819582e+06\n",
              " Portland(OR)                  11303  1.860558e+06   70621  1.870732e+06\n",
              " Seattle(WA)                   16553  2.733296e+06  104941  2.747755e+06\n",
              " Dallas(TX)                    16730  2.752628e+06  104620  2.767975e+06\n",
              " Atlanta(GA)                   16602  2.779908e+06  104794  2.795499e+06\n",
              " Boston(MA)                    22528  3.637410e+06  141112  3.661642e+06\n",
              " New York City(NY)             27932  4.635371e+06  175741  4.664317e+06\n",
              " Los Angeles(CA)               33289  5.421435e+06  208325  5.452571e+06\n",
              " San Francisco(CA)             50239  8.211462e+06  315520  8.262204e+06"
            ]
          },
          "metadata": {},
          "execution_count": 33
        }
      ]
    },
    {
      "cell_type": "code",
      "metadata": {
        "colab": {
          "base_uri": "https://localhost:8080/",
          "height": 421
        },
        "id": "eb-rZTcz6dnS",
        "outputId": "1ed2b76e-4779-4969-c4c2-5f18427d21b2"
      },
      "source": [
        "plt.figure(figsize = (10,5))\n",
        "plt.title(\"Total sale for each city\", fontsize = 18, color = 'b')\n",
        "\n",
        "plt.xlabel(\"City\", fontsize = 14)\n",
        "plt.ylabel(\"Sales in million (USD)\", fontsize = 14)\n",
        "\n",
        "plt.xticks(rotation = 45)\n",
        "\n",
        "plt.bar(city_sale.index, city_sale['Sale']/10**6, color ='maroon')\n",
        "\n",
        "plt.show()"
      ],
      "execution_count": 34,
      "outputs": [
        {
          "output_type": "display_data",
          "data": {
            "image/png": "[encoded data removed]",
            "text/plain": [
              "<Figure size 720x360 with 1 Axes>"
            ]
          },
          "metadata": {
            "needs_background": "light"
          }
        }
      ]
    },
    {
      "cell_type": "markdown",
      "metadata": {
        "id": "SKcDOz8YcggF"
      },
      "source": [
        "# When to display advertisement to maximize the sale?"
      ]
    },
    {
      "cell_type": "markdown",
      "metadata": {
        "id": "7InthiZxf_P3"
      },
      "source": [
        "#### Extract hourly data by converting the datatype of the Purchase Date column"
      ]
    },
    {
      "cell_type": "code",
      "metadata": {
        "id": "KmrVGX1E82o1"
      },
      "source": [
        "import datetime as dt\n",
        "complete_df['Order Date'] = pd.to_datetime(complete_df['Order Date'])"
      ],
      "execution_count": 36,
      "outputs": []
    },
    {
      "cell_type": "code",
      "metadata": {
        "colab": {
          "base_uri": "https://localhost:8080/"
        },
        "id": "H79KRr9tgYFM",
        "outputId": "07a39b73-66ab-4984-9688-1e920045af6c"
      },
      "source": [
        "complete_df.info()"
      ],
      "execution_count": 37,
      "outputs": [
        {
          "output_type": "stream",
          "name": "stdout",
          "text": [
            "<class 'pandas.core.frame.DataFrame'>\n",
            "Int64Index: 185950 entries, 0 to 186849\n",
            "Data columns (total 14 columns):\n",
            " #   Column            Non-Null Count   Dtype         \n",
            "---  ------            --------------   -----         \n",
            " 0   Order ID          185950 non-null  object        \n",
            " 1   Product           185950 non-null  object        \n",
            " 2   Quantity Ordered  185950 non-null  int32         \n",
            " 3   Price Each        185950 non-null  float64       \n",
            " 4   Order Date        185950 non-null  datetime64[ns]\n",
            " 5   Purchase Address  185950 non-null  object        \n",
            " 6   Month             185950 non-null  int32         \n",
            " 7   Sale              185950 non-null  float64       \n",
            " 8   Street            185950 non-null  object        \n",
            " 9   City              185950 non-null  object        \n",
            " 10  State(ZIP)        185950 non-null  object        \n",
            " 11  col1              185950 non-null  object        \n",
            " 12  col2              185950 non-null  object        \n",
            " 13  col3              185950 non-null  object        \n",
            "dtypes: datetime64[ns](1), float64(2), int32(2), object(9)\n",
            "memory usage: 19.9+ MB\n"
          ]
        }
      ]
    },
    {
      "cell_type": "code",
      "metadata": {
        "id": "0K9CVUbIg2g3"
      },
      "source": [
        "complete_df['Hour'] = complete_df['Order Date'].dt.hour"
      ],
      "execution_count": 38,
      "outputs": []
    },
    {
      "cell_type": "code",
      "metadata": {
        "colab": {
          "base_uri": "https://localhost:8080/",
          "height": 383
        },
        "id": "bmlSFj0JhPFL",
        "outputId": "c89effb5-4dde-4348-93f9-61b8e567c928"
      },
      "source": [
        "complete_df.head(3)"
      ],
      "execution_count": 39,
      "outputs": [
        {
          "output_type": "execute_result",
          "data": {
            "text/html": [
              "<div>\n",
              "<style scoped>\n",
              "    .dataframe tbody tr th:only-of-type {\n",
              "        vertical-align: middle;\n",
              "    }\n",
              "\n",
              "    .dataframe tbody tr th {\n",
              "        vertical-align: top;\n",
              "    }\n",
              "\n",
              "    .dataframe thead th {\n",
              "        text-align: right;\n",
              "    }\n",
              "</style>\n",
              "<table border=\"1\" class=\"dataframe\">\n",
              "  <thead>\n",
              "    <tr style=\"text-align: right;\">\n",
              "      <th></th>\n",
              "      <th>Order ID</th>\n",
              "      <th>Product</th>\n",
              "      <th>Quantity Ordered</th>\n",
              "      <th>Price Each</th>\n",
              "      <th>Order Date</th>\n",
              "      <th>Purchase Address</th>\n",
              "      <th>Month</th>\n",
              "      <th>Sale</th>\n",
              "      <th>Street</th>\n",
              "      <th>City</th>\n",
              "      <th>State(ZIP)</th>\n",
              "      <th>col1</th>\n",
              "      <th>col2</th>\n",
              "      <th>col3</th>\n",
              "      <th>Hour</th>\n",
              "    </tr>\n",
              "  </thead>\n",
              "  <tbody>\n",
              "    <tr>\n",
              "      <th>0</th>\n",
              "      <td>176558</td>\n",
              "      <td>USB-C Charging Cable</td>\n",
              "      <td>2</td>\n",
              "      <td>11.95</td>\n",
              "      <td>2019-04-19 08:46:00</td>\n",
              "      <td>917 1st St, Dallas, TX 75001</td>\n",
              "      <td>4</td>\n",
              "      <td>23.90</td>\n",
              "      <td>917 1st St</td>\n",
              "      <td>Dallas</td>\n",
              "      <td>TX 75001</td>\n",
              "      <td></td>\n",
              "      <td>TX</td>\n",
              "      <td>75001</td>\n",
              "      <td>8</td>\n",
              "    </tr>\n",
              "    <tr>\n",
              "      <th>2</th>\n",
              "      <td>176559</td>\n",
              "      <td>Bose SoundSport Headphones</td>\n",
              "      <td>1</td>\n",
              "      <td>99.99</td>\n",
              "      <td>2019-04-07 22:30:00</td>\n",
              "      <td>682 Chestnut St, Boston, MA 02215</td>\n",
              "      <td>4</td>\n",
              "      <td>99.99</td>\n",
              "      <td>682 Chestnut St</td>\n",
              "      <td>Boston</td>\n",
              "      <td>MA 02215</td>\n",
              "      <td></td>\n",
              "      <td>MA</td>\n",
              "      <td>02215</td>\n",
              "      <td>22</td>\n",
              "    </tr>\n",
              "    <tr>\n",
              "      <th>3</th>\n",
              "      <td>176560</td>\n",
              "      <td>Google Phone</td>\n",
              "      <td>1</td>\n",
              "      <td>600.00</td>\n",
              "      <td>2019-04-12 14:38:00</td>\n",
              "      <td>669 Spruce St, Los Angeles, CA 90001</td>\n",
              "      <td>4</td>\n",
              "      <td>600.00</td>\n",
              "      <td>669 Spruce St</td>\n",
              "      <td>Los Angeles</td>\n",
              "      <td>CA 90001</td>\n",
              "      <td></td>\n",
              "      <td>CA</td>\n",
              "      <td>90001</td>\n",
              "      <td>14</td>\n",
              "    </tr>\n",
              "  </tbody>\n",
              "</table>\n",
              "</div>"
            ],
            "text/plain": [
              "  Order ID                     Product  Quantity Ordered  ...  col2   col3 Hour\n",
              "0   176558        USB-C Charging Cable                 2  ...    TX  75001    8\n",
              "2   176559  Bose SoundSport Headphones                 1  ...    MA  02215   22\n",
              "3   176560                Google Phone                 1  ...    CA  90001   14\n",
              "\n",
              "[3 rows x 15 columns]"
            ]
          },
          "metadata": {},
          "execution_count": 39
        }
      ]
    },
    {
      "cell_type": "markdown",
      "metadata": {
        "id": "UjXJgoJqiUzZ"
      },
      "source": [
        "#### Analyse and plot"
      ]
    },
    {
      "cell_type": "code",
      "metadata": {
        "colab": {
          "base_uri": "https://localhost:8080/",
          "height": 252
        },
        "id": "BML3RsNHhPMe",
        "outputId": "bbbaaf22-0bc8-4419-c2ec-335c96ea938b"
      },
      "source": [
        "hourly_sale = complete_df.groupby('Hour').count()\n",
        "hourly_sale.head()"
      ],
      "execution_count": 40,
      "outputs": [
        {
          "output_type": "execute_result",
          "data": {
            "text/html": [
              "<div>\n",
              "<style scoped>\n",
              "    .dataframe tbody tr th:only-of-type {\n",
              "        vertical-align: middle;\n",
              "    }\n",
              "\n",
              "    .dataframe tbody tr th {\n",
              "        vertical-align: top;\n",
              "    }\n",
              "\n",
              "    .dataframe thead th {\n",
              "        text-align: right;\n",
              "    }\n",
              "</style>\n",
              "<table border=\"1\" class=\"dataframe\">\n",
              "  <thead>\n",
              "    <tr style=\"text-align: right;\">\n",
              "      <th></th>\n",
              "      <th>Order ID</th>\n",
              "      <th>Product</th>\n",
              "      <th>Quantity Ordered</th>\n",
              "      <th>Price Each</th>\n",
              "      <th>Order Date</th>\n",
              "      <th>Purchase Address</th>\n",
              "      <th>Month</th>\n",
              "      <th>Sale</th>\n",
              "      <th>Street</th>\n",
              "      <th>City</th>\n",
              "      <th>State(ZIP)</th>\n",
              "      <th>col1</th>\n",
              "      <th>col2</th>\n",
              "      <th>col3</th>\n",
              "    </tr>\n",
              "    <tr>\n",
              "      <th>Hour</th>\n",
              "      <th></th>\n",
              "      <th></th>\n",
              "      <th></th>\n",
              "      <th></th>\n",
              "      <th></th>\n",
              "      <th></th>\n",
              "      <th></th>\n",
              "      <th></th>\n",
              "      <th></th>\n",
              "      <th></th>\n",
              "      <th></th>\n",
              "      <th></th>\n",
              "      <th></th>\n",
              "      <th></th>\n",
              "    </tr>\n",
              "  </thead>\n",
              "  <tbody>\n",
              "    <tr>\n",
              "      <th>0</th>\n",
              "      <td>3910</td>\n",
              "      <td>3910</td>\n",
              "      <td>3910</td>\n",
              "      <td>3910</td>\n",
              "      <td>3910</td>\n",
              "      <td>3910</td>\n",
              "      <td>3910</td>\n",
              "      <td>3910</td>\n",
              "      <td>3910</td>\n",
              "      <td>3910</td>\n",
              "      <td>3910</td>\n",
              "      <td>3910</td>\n",
              "      <td>3910</td>\n",
              "      <td>3910</td>\n",
              "    </tr>\n",
              "    <tr>\n",
              "      <th>1</th>\n",
              "      <td>2350</td>\n",
              "      <td>2350</td>\n",
              "      <td>2350</td>\n",
              "      <td>2350</td>\n",
              "      <td>2350</td>\n",
              "      <td>2350</td>\n",
              "      <td>2350</td>\n",
              "      <td>2350</td>\n",
              "      <td>2350</td>\n",
              "      <td>2350</td>\n",
              "      <td>2350</td>\n",
              "      <td>2350</td>\n",
              "      <td>2350</td>\n",
              "      <td>2350</td>\n",
              "    </tr>\n",
              "    <tr>\n",
              "      <th>2</th>\n",
              "      <td>1243</td>\n",
              "      <td>1243</td>\n",
              "      <td>1243</td>\n",
              "      <td>1243</td>\n",
              "      <td>1243</td>\n",
              "      <td>1243</td>\n",
              "      <td>1243</td>\n",
              "      <td>1243</td>\n",
              "      <td>1243</td>\n",
              "      <td>1243</td>\n",
              "      <td>1243</td>\n",
              "      <td>1243</td>\n",
              "      <td>1243</td>\n",
              "      <td>1243</td>\n",
              "    </tr>\n",
              "    <tr>\n",
              "      <th>3</th>\n",
              "      <td>831</td>\n",
              "      <td>831</td>\n",
              "      <td>831</td>\n",
              "      <td>831</td>\n",
              "      <td>831</td>\n",
              "      <td>831</td>\n",
              "      <td>831</td>\n",
              "      <td>831</td>\n",
              "      <td>831</td>\n",
              "      <td>831</td>\n",
              "      <td>831</td>\n",
              "      <td>831</td>\n",
              "      <td>831</td>\n",
              "      <td>831</td>\n",
              "    </tr>\n",
              "    <tr>\n",
              "      <th>4</th>\n",
              "      <td>854</td>\n",
              "      <td>854</td>\n",
              "      <td>854</td>\n",
              "      <td>854</td>\n",
              "      <td>854</td>\n",
              "      <td>854</td>\n",
              "      <td>854</td>\n",
              "      <td>854</td>\n",
              "      <td>854</td>\n",
              "      <td>854</td>\n",
              "      <td>854</td>\n",
              "      <td>854</td>\n",
              "      <td>854</td>\n",
              "      <td>854</td>\n",
              "    </tr>\n",
              "  </tbody>\n",
              "</table>\n",
              "</div>"
            ],
            "text/plain": [
              "      Order ID  Product  Quantity Ordered  ...  col1  col2  col3\n",
              "Hour                                       ...                  \n",
              "0         3910     3910              3910  ...  3910  3910  3910\n",
              "1         2350     2350              2350  ...  2350  2350  2350\n",
              "2         1243     1243              1243  ...  1243  1243  1243\n",
              "3          831      831               831  ...   831   831   831\n",
              "4          854      854               854  ...   854   854   854\n",
              "\n",
              "[5 rows x 14 columns]"
            ]
          },
          "metadata": {},
          "execution_count": 40
        }
      ]
    },
    {
      "cell_type": "code",
      "metadata": {
        "colab": {
          "base_uri": "https://localhost:8080/",
          "height": 412
        },
        "id": "kMRCyWBthnZO",
        "outputId": "a1108d8e-865f-44ff-d708-a31c0262a84c"
      },
      "source": [
        "plt.figure(figsize = (10,5))\n",
        "plt.title(\"Hourly Sale\", fontsize = 18)\n",
        "\n",
        "plt.xlabel(\"Hour\", fontsize = 14)\n",
        "plt.ylabel('Number of sales', fontsize = 14)\n",
        "plt.xticks(hourly_sale.index)\n",
        "\n",
        "\n",
        "plt.stem(hourly_sale.index,hourly_sale.Sale, linefmt='Black')\n",
        "plt.plot(hourly_sale.index,hourly_sale.Sale, color = 'seagreen')\n",
        "\n",
        "plt.show()\n",
        "\n",
        "#The right time would be just an hour before the peak sale count(10am and 5pm)"
      ],
      "execution_count": 45,
      "outputs": [
        {
          "output_type": "stream",
          "name": "stderr",
          "text": [
            "/usr/local/lib/python3.7/dist-packages/ipykernel_launcher.py:9: UserWarning: In Matplotlib 3.3 individual lines on a stem plot will be added as a LineCollection instead of individual lines. This significantly improves the performance of a stem plot. To remove this warning and switch to the new behaviour, set the \"use_line_collection\" keyword argument to True.\n",
            "  if __name__ == '__main__':\n"
          ]
        },
        {
          "output_type": "display_data",
          "data": {
            "image/png": "[encoded data removed]",
            "text/plain": [
              "<Figure size 720x360 with 1 Axes>"
            ]
          },
          "metadata": {
            "needs_background": "light"
          }
        }
      ]
    },
    {
      "cell_type": "markdown",
      "metadata": {
        "id": "xt3BiiXmz-ch"
      },
      "source": [
        "# What product is sold the most?"
      ]
    },
    {
      "cell_type": "code",
      "metadata": {
        "colab": {
          "base_uri": "https://localhost:8080/",
          "height": 391
        },
        "id": "GWQZ9Yysz9cl",
        "outputId": "70dc9caa-c334-44c7-e4fc-4f36fa81d94d"
      },
      "source": [
        "complete_df.head()"
      ],
      "execution_count": 99,
      "outputs": [
        {
          "output_type": "execute_result",
          "data": {
            "text/html": [
              "<div>\n",
              "<style scoped>\n",
              "    .dataframe tbody tr th:only-of-type {\n",
              "        vertical-align: middle;\n",
              "    }\n",
              "\n",
              "    .dataframe tbody tr th {\n",
              "        vertical-align: top;\n",
              "    }\n",
              "\n",
              "    .dataframe thead th {\n",
              "        text-align: right;\n",
              "    }\n",
              "</style>\n",
              "<table border=\"1\" class=\"dataframe\">\n",
              "  <thead>\n",
              "    <tr style=\"text-align: right;\">\n",
              "      <th></th>\n",
              "      <th>Order ID</th>\n",
              "      <th>Product</th>\n",
              "      <th>Quantity Ordered</th>\n",
              "      <th>Price Each</th>\n",
              "      <th>Order Date</th>\n",
              "      <th>Purchase Address</th>\n",
              "      <th>Month</th>\n",
              "      <th>Sale</th>\n",
              "      <th>Street</th>\n",
              "      <th>City</th>\n",
              "      <th>State(ZIP)</th>\n",
              "      <th>Hour</th>\n",
              "    </tr>\n",
              "  </thead>\n",
              "  <tbody>\n",
              "    <tr>\n",
              "      <th>0</th>\n",
              "      <td>176558</td>\n",
              "      <td>USB-C Charging Cable</td>\n",
              "      <td>2</td>\n",
              "      <td>11.95</td>\n",
              "      <td>2019-04-19 08:46:00</td>\n",
              "      <td>917 1st St, Dallas, TX 75001</td>\n",
              "      <td>4</td>\n",
              "      <td>23.90</td>\n",
              "      <td>917 1st St</td>\n",
              "      <td>Dallas</td>\n",
              "      <td>TX 75001</td>\n",
              "      <td>8</td>\n",
              "    </tr>\n",
              "    <tr>\n",
              "      <th>2</th>\n",
              "      <td>176559</td>\n",
              "      <td>Bose SoundSport Headphones</td>\n",
              "      <td>1</td>\n",
              "      <td>99.99</td>\n",
              "      <td>2019-04-07 22:30:00</td>\n",
              "      <td>682 Chestnut St, Boston, MA 02215</td>\n",
              "      <td>4</td>\n",
              "      <td>99.99</td>\n",
              "      <td>682 Chestnut St</td>\n",
              "      <td>Boston</td>\n",
              "      <td>MA 02215</td>\n",
              "      <td>22</td>\n",
              "    </tr>\n",
              "    <tr>\n",
              "      <th>3</th>\n",
              "      <td>176560</td>\n",
              "      <td>Google Phone</td>\n",
              "      <td>1</td>\n",
              "      <td>600.00</td>\n",
              "      <td>2019-04-12 14:38:00</td>\n",
              "      <td>669 Spruce St, Los Angeles, CA 90001</td>\n",
              "      <td>4</td>\n",
              "      <td>600.00</td>\n",
              "      <td>669 Spruce St</td>\n",
              "      <td>Los Angeles</td>\n",
              "      <td>CA 90001</td>\n",
              "      <td>14</td>\n",
              "    </tr>\n",
              "    <tr>\n",
              "      <th>4</th>\n",
              "      <td>176560</td>\n",
              "      <td>Wired Headphones</td>\n",
              "      <td>1</td>\n",
              "      <td>11.99</td>\n",
              "      <td>2019-04-12 14:38:00</td>\n",
              "      <td>669 Spruce St, Los Angeles, CA 90001</td>\n",
              "      <td>4</td>\n",
              "      <td>11.99</td>\n",
              "      <td>669 Spruce St</td>\n",
              "      <td>Los Angeles</td>\n",
              "      <td>CA 90001</td>\n",
              "      <td>14</td>\n",
              "    </tr>\n",
              "    <tr>\n",
              "      <th>5</th>\n",
              "      <td>176561</td>\n",
              "      <td>Wired Headphones</td>\n",
              "      <td>1</td>\n",
              "      <td>11.99</td>\n",
              "      <td>2019-04-30 09:27:00</td>\n",
              "      <td>333 8th St, Los Angeles, CA 90001</td>\n",
              "      <td>4</td>\n",
              "      <td>11.99</td>\n",
              "      <td>333 8th St</td>\n",
              "      <td>Los Angeles</td>\n",
              "      <td>CA 90001</td>\n",
              "      <td>9</td>\n",
              "    </tr>\n",
              "  </tbody>\n",
              "</table>\n",
              "</div>"
            ],
            "text/plain": [
              "  Order ID                     Product  ...  State(ZIP)  Hour\n",
              "0   176558        USB-C Charging Cable  ...    TX 75001     8\n",
              "2   176559  Bose SoundSport Headphones  ...    MA 02215    22\n",
              "3   176560                Google Phone  ...    CA 90001    14\n",
              "4   176560            Wired Headphones  ...    CA 90001    14\n",
              "5   176561            Wired Headphones  ...    CA 90001     9\n",
              "\n",
              "[5 rows x 12 columns]"
            ]
          },
          "metadata": {},
          "execution_count": 99
        }
      ]
    },
    {
      "cell_type": "code",
      "metadata": {
        "colab": {
          "base_uri": "https://localhost:8080/",
          "height": 669
        },
        "id": "kdbUOxmBz9Y9",
        "outputId": "4ef9cc3b-4500-4d11-8764-2a56e10c4790"
      },
      "source": [
        "count_df = complete_df.groupby('Product').sum()\n",
        "count_df.sort_values('Quantity Ordered', ascending=False)"
      ],
      "execution_count": 131,
      "outputs": [
        {
          "output_type": "execute_result",
          "data": {
            "text/html": [
              "<div>\n",
              "<style scoped>\n",
              "    .dataframe tbody tr th:only-of-type {\n",
              "        vertical-align: middle;\n",
              "    }\n",
              "\n",
              "    .dataframe tbody tr th {\n",
              "        vertical-align: top;\n",
              "    }\n",
              "\n",
              "    .dataframe thead th {\n",
              "        text-align: right;\n",
              "    }\n",
              "</style>\n",
              "<table border=\"1\" class=\"dataframe\">\n",
              "  <thead>\n",
              "    <tr style=\"text-align: right;\">\n",
              "      <th></th>\n",
              "      <th>Quantity Ordered</th>\n",
              "      <th>Price Each</th>\n",
              "      <th>Month</th>\n",
              "      <th>Sale</th>\n",
              "      <th>Hour</th>\n",
              "    </tr>\n",
              "    <tr>\n",
              "      <th>Product</th>\n",
              "      <th></th>\n",
              "      <th></th>\n",
              "      <th></th>\n",
              "      <th></th>\n",
              "      <th></th>\n",
              "    </tr>\n",
              "  </thead>\n",
              "  <tbody>\n",
              "    <tr>\n",
              "      <th>AAA Batteries (4-pack)</th>\n",
              "      <td>31017</td>\n",
              "      <td>61716.59</td>\n",
              "      <td>146370</td>\n",
              "      <td>92740.83</td>\n",
              "      <td>297332</td>\n",
              "    </tr>\n",
              "    <tr>\n",
              "      <th>AA Batteries (4-pack)</th>\n",
              "      <td>27635</td>\n",
              "      <td>79015.68</td>\n",
              "      <td>145558</td>\n",
              "      <td>106118.40</td>\n",
              "      <td>298342</td>\n",
              "    </tr>\n",
              "    <tr>\n",
              "      <th>USB-C Charging Cable</th>\n",
              "      <td>23975</td>\n",
              "      <td>261740.85</td>\n",
              "      <td>154819</td>\n",
              "      <td>286501.25</td>\n",
              "      <td>314645</td>\n",
              "    </tr>\n",
              "    <tr>\n",
              "      <th>Lightning Charging Cable</th>\n",
              "      <td>23217</td>\n",
              "      <td>323787.10</td>\n",
              "      <td>153092</td>\n",
              "      <td>347094.15</td>\n",
              "      <td>312529</td>\n",
              "    </tr>\n",
              "    <tr>\n",
              "      <th>Wired Headphones</th>\n",
              "      <td>20557</td>\n",
              "      <td>226395.18</td>\n",
              "      <td>133397</td>\n",
              "      <td>246478.43</td>\n",
              "      <td>271720</td>\n",
              "    </tr>\n",
              "    <tr>\n",
              "      <th>Apple Airpods Headphones</th>\n",
              "      <td>15661</td>\n",
              "      <td>2332350.00</td>\n",
              "      <td>109477</td>\n",
              "      <td>2349150.00</td>\n",
              "      <td>223304</td>\n",
              "    </tr>\n",
              "    <tr>\n",
              "      <th>Bose SoundSport Headphones</th>\n",
              "      <td>13457</td>\n",
              "      <td>1332366.75</td>\n",
              "      <td>94113</td>\n",
              "      <td>1345565.43</td>\n",
              "      <td>192445</td>\n",
              "    </tr>\n",
              "    <tr>\n",
              "      <th>27in FHD Monitor</th>\n",
              "      <td>7550</td>\n",
              "      <td>1125974.93</td>\n",
              "      <td>52558</td>\n",
              "      <td>1132424.50</td>\n",
              "      <td>107540</td>\n",
              "    </tr>\n",
              "    <tr>\n",
              "      <th>iPhone</th>\n",
              "      <td>6849</td>\n",
              "      <td>4789400.00</td>\n",
              "      <td>47941</td>\n",
              "      <td>4794300.00</td>\n",
              "      <td>98657</td>\n",
              "    </tr>\n",
              "    <tr>\n",
              "      <th>27in 4K Gaming Monitor</th>\n",
              "      <td>6244</td>\n",
              "      <td>2429637.70</td>\n",
              "      <td>44440</td>\n",
              "      <td>2435097.56</td>\n",
              "      <td>90916</td>\n",
              "    </tr>\n",
              "    <tr>\n",
              "      <th>34in Ultrawide Monitor</th>\n",
              "      <td>6199</td>\n",
              "      <td>2348718.19</td>\n",
              "      <td>43304</td>\n",
              "      <td>2355558.01</td>\n",
              "      <td>89076</td>\n",
              "    </tr>\n",
              "    <tr>\n",
              "      <th>Google Phone</th>\n",
              "      <td>5532</td>\n",
              "      <td>3315000.00</td>\n",
              "      <td>38305</td>\n",
              "      <td>3319200.00</td>\n",
              "      <td>79479</td>\n",
              "    </tr>\n",
              "    <tr>\n",
              "      <th>Flatscreen TV</th>\n",
              "      <td>4819</td>\n",
              "      <td>1440000.00</td>\n",
              "      <td>34224</td>\n",
              "      <td>1445700.00</td>\n",
              "      <td>68815</td>\n",
              "    </tr>\n",
              "    <tr>\n",
              "      <th>Macbook Pro Laptop</th>\n",
              "      <td>4728</td>\n",
              "      <td>8030800.00</td>\n",
              "      <td>33548</td>\n",
              "      <td>8037600.00</td>\n",
              "      <td>68261</td>\n",
              "    </tr>\n",
              "    <tr>\n",
              "      <th>ThinkPad Laptop</th>\n",
              "      <td>4130</td>\n",
              "      <td>4127958.72</td>\n",
              "      <td>28950</td>\n",
              "      <td>4129958.70</td>\n",
              "      <td>59746</td>\n",
              "    </tr>\n",
              "    <tr>\n",
              "      <th>20in Monitor</th>\n",
              "      <td>4129</td>\n",
              "      <td>451068.99</td>\n",
              "      <td>29336</td>\n",
              "      <td>454148.71</td>\n",
              "      <td>58764</td>\n",
              "    </tr>\n",
              "    <tr>\n",
              "      <th>Vareebadd Phone</th>\n",
              "      <td>2068</td>\n",
              "      <td>826000.00</td>\n",
              "      <td>14309</td>\n",
              "      <td>827200.00</td>\n",
              "      <td>29472</td>\n",
              "    </tr>\n",
              "    <tr>\n",
              "      <th>LG Washing Machine</th>\n",
              "      <td>666</td>\n",
              "      <td>399600.00</td>\n",
              "      <td>4523</td>\n",
              "      <td>399600.00</td>\n",
              "      <td>9785</td>\n",
              "    </tr>\n",
              "    <tr>\n",
              "      <th>LG Dryer</th>\n",
              "      <td>646</td>\n",
              "      <td>387600.00</td>\n",
              "      <td>4383</td>\n",
              "      <td>387600.00</td>\n",
              "      <td>9326</td>\n",
              "    </tr>\n",
              "  </tbody>\n",
              "</table>\n",
              "</div>"
            ],
            "text/plain": [
              "                            Quantity Ordered  Price Each  ...        Sale    Hour\n",
              "Product                                                   ...                    \n",
              "AAA Batteries (4-pack)                 31017    61716.59  ...    92740.83  297332\n",
              "AA Batteries (4-pack)                  27635    79015.68  ...   106118.40  298342\n",
              "USB-C Charging Cable                   23975   261740.85  ...   286501.25  314645\n",
              "Lightning Charging Cable               23217   323787.10  ...   347094.15  312529\n",
              "Wired Headphones                       20557   226395.18  ...   246478.43  271720\n",
              "Apple Airpods Headphones               15661  2332350.00  ...  2349150.00  223304\n",
              "Bose SoundSport Headphones             13457  1332366.75  ...  1345565.43  192445\n",
              "27in FHD Monitor                        7550  1125974.93  ...  1132424.50  107540\n",
              "iPhone                                  6849  4789400.00  ...  4794300.00   98657\n",
              "27in 4K Gaming Monitor                  6244  2429637.70  ...  2435097.56   90916\n",
              "34in Ultrawide Monitor                  6199  2348718.19  ...  2355558.01   89076\n",
              "Google Phone                            5532  3315000.00  ...  3319200.00   79479\n",
              "Flatscreen TV                           4819  1440000.00  ...  1445700.00   68815\n",
              "Macbook Pro Laptop                      4728  8030800.00  ...  8037600.00   68261\n",
              "ThinkPad Laptop                         4130  4127958.72  ...  4129958.70   59746\n",
              "20in Monitor                            4129   451068.99  ...   454148.71   58764\n",
              "Vareebadd Phone                         2068   826000.00  ...   827200.00   29472\n",
              "LG Washing Machine                       666   399600.00  ...   399600.00    9785\n",
              "LG Dryer                                 646   387600.00  ...   387600.00    9326\n",
              "\n",
              "[19 rows x 5 columns]"
            ]
          },
          "metadata": {},
          "execution_count": 131
        }
      ]
    },
    {
      "cell_type": "code",
      "metadata": {
        "colab": {
          "base_uri": "https://localhost:8080/",
          "height": 499
        },
        "id": "gkcNC9mCz9WE",
        "outputId": "41e44c4c-d274-4199-a2f8-7f6c6ce113f7"
      },
      "source": [
        "plt.figure(figsize = (10,5), frameon=False)\n",
        "plt.title(\"Product that is sold the most\", fontsize = 18)\n",
        "\n",
        "plt.xticks(rotation=90)\n",
        "\n",
        "plt.xlabel('Products', fontsize = 14)\n",
        "plt.ylabel('Quantity Ordered', fontsize = 14)\n",
        "plt.bar(count_df.index,count_df['Quantity Ordered'])\n",
        "plt.show()"
      ],
      "execution_count": 136,
      "outputs": [
        {
          "output_type": "display_data",
          "data": {
            "image/png": "[encoded data removed]",
            "text/plain": [
              "<Figure size 720x360 with 1 Axes>"
            ]
          },
          "metadata": {
            "needs_background": "light"
          }
        }
      ]
    },
    {
      "cell_type": "markdown",
      "metadata": {
        "id": "QQvOq7lp8PgQ"
      },
      "source": [
        "#### Is it related to Price?"
      ]
    },
    {
      "cell_type": "code",
      "metadata": {
        "id": "ElIDID7Kz9Ss"
      },
      "source": [
        "price_df = complete_df.groupby('Product').mean()['Price Each']"
      ],
      "execution_count": 177,
      "outputs": []
    },
    {
      "cell_type": "code",
      "metadata": {
        "colab": {
          "base_uri": "https://localhost:8080/",
          "height": 553
        },
        "id": "BgzC4iQYDY9-",
        "outputId": "17a43e38-3db4-4853-c705-fcf92ef965f0"
      },
      "source": [
        "plt.figure(figsize = (10,6), frameon=False)\n",
        "plt.title(\"Product that is sold the most and their Price\", fontsize = 18)\n",
        "\n",
        "axis1 = plt.gca()\n",
        "axis2 = axis1.twinx()\n",
        "\n",
        "\n",
        "axis1.set_xlabel('Product name', fontsize = 14)\n",
        "axis1.set_xticklabels(count_df.index, rotation=90)\n",
        "\n",
        "#plt.ylabel('Quantity Ordered', fontsize = 14)\n",
        "axis1.bar(count_df.index,count_df['Quantity Ordered'], color = 'skyblue')\n",
        "axis1.set_ylabel('Quantity ordered', color = 'skyblue', fontsize = 15)\n",
        "\n",
        "axis2.plot(price_df.index,price_df.values, color = 'red')\n",
        "axis2.set_ylabel('Average price', color = 'red', fontsize = 15)\n",
        "\n",
        "plt.show()\n",
        "\n",
        "# Products that are priced higher are sold less."
      ],
      "execution_count": 178,
      "outputs": [
        {
          "output_type": "display_data",
          "data": {
            "image/png": "[encoded data removed]",
            "text/plain": [
              "<Figure size 720x432 with 2 Axes>"
            ]
          },
          "metadata": {
            "needs_background": "light"
          }
        }
      ]
    },
    {
      "cell_type": "code",
      "metadata": {
        "id": "3TGu25GSz894"
      },
      "source": [
        ""
      ],
      "execution_count": null,
      "outputs": []
    },
    {
      "cell_type": "markdown",
      "metadata": {
        "id": "vNIhP6VBp1po"
      },
      "source": [
        "# What products are often sold together?"
      ]
    },
    {
      "cell_type": "code",
      "metadata": {
        "colab": {
          "base_uri": "https://localhost:8080/",
          "height": 261
        },
        "id": "SnT8-xsMja20",
        "outputId": "067bc287-ede6-4d93-866e-fedd08e21380"
      },
      "source": [
        "#complete_df.drop(columns=['col1','col2','col3'], inplace = True) \n",
        "complete_df.head(3)"
      ],
      "execution_count": 54,
      "outputs": [
        {
          "output_type": "execute_result",
          "data": {
            "text/html": [
              "<div>\n",
              "<style scoped>\n",
              "    .dataframe tbody tr th:only-of-type {\n",
              "        vertical-align: middle;\n",
              "    }\n",
              "\n",
              "    .dataframe tbody tr th {\n",
              "        vertical-align: top;\n",
              "    }\n",
              "\n",
              "    .dataframe thead th {\n",
              "        text-align: right;\n",
              "    }\n",
              "</style>\n",
              "<table border=\"1\" class=\"dataframe\">\n",
              "  <thead>\n",
              "    <tr style=\"text-align: right;\">\n",
              "      <th></th>\n",
              "      <th>Order ID</th>\n",
              "      <th>Product</th>\n",
              "      <th>Quantity Ordered</th>\n",
              "      <th>Price Each</th>\n",
              "      <th>Order Date</th>\n",
              "      <th>Purchase Address</th>\n",
              "      <th>Month</th>\n",
              "      <th>Sale</th>\n",
              "      <th>Street</th>\n",
              "      <th>City</th>\n",
              "      <th>State(ZIP)</th>\n",
              "      <th>Hour</th>\n",
              "    </tr>\n",
              "  </thead>\n",
              "  <tbody>\n",
              "    <tr>\n",
              "      <th>0</th>\n",
              "      <td>176558</td>\n",
              "      <td>USB-C Charging Cable</td>\n",
              "      <td>2</td>\n",
              "      <td>11.95</td>\n",
              "      <td>2019-04-19 08:46:00</td>\n",
              "      <td>917 1st St, Dallas, TX 75001</td>\n",
              "      <td>4</td>\n",
              "      <td>23.90</td>\n",
              "      <td>917 1st St</td>\n",
              "      <td>Dallas</td>\n",
              "      <td>TX 75001</td>\n",
              "      <td>8</td>\n",
              "    </tr>\n",
              "    <tr>\n",
              "      <th>2</th>\n",
              "      <td>176559</td>\n",
              "      <td>Bose SoundSport Headphones</td>\n",
              "      <td>1</td>\n",
              "      <td>99.99</td>\n",
              "      <td>2019-04-07 22:30:00</td>\n",
              "      <td>682 Chestnut St, Boston, MA 02215</td>\n",
              "      <td>4</td>\n",
              "      <td>99.99</td>\n",
              "      <td>682 Chestnut St</td>\n",
              "      <td>Boston</td>\n",
              "      <td>MA 02215</td>\n",
              "      <td>22</td>\n",
              "    </tr>\n",
              "    <tr>\n",
              "      <th>3</th>\n",
              "      <td>176560</td>\n",
              "      <td>Google Phone</td>\n",
              "      <td>1</td>\n",
              "      <td>600.00</td>\n",
              "      <td>2019-04-12 14:38:00</td>\n",
              "      <td>669 Spruce St, Los Angeles, CA 90001</td>\n",
              "      <td>4</td>\n",
              "      <td>600.00</td>\n",
              "      <td>669 Spruce St</td>\n",
              "      <td>Los Angeles</td>\n",
              "      <td>CA 90001</td>\n",
              "      <td>14</td>\n",
              "    </tr>\n",
              "  </tbody>\n",
              "</table>\n",
              "</div>"
            ],
            "text/plain": [
              "  Order ID                     Product  ...  State(ZIP)  Hour\n",
              "0   176558        USB-C Charging Cable  ...    TX 75001     8\n",
              "2   176559  Bose SoundSport Headphones  ...    MA 02215    22\n",
              "3   176560                Google Phone  ...    CA 90001    14\n",
              "\n",
              "[3 rows x 12 columns]"
            ]
          },
          "metadata": {},
          "execution_count": 54
        }
      ]
    },
    {
      "cell_type": "code",
      "metadata": {
        "colab": {
          "base_uri": "https://localhost:8080/",
          "height": 456
        },
        "id": "Hc-dEkVbqJ8H",
        "outputId": "027c0506-dab4-4833-f072-2c5702e96e2c"
      },
      "source": [
        "df_st = complete_df[complete_df['Order ID'].duplicated(keep= False)]\n",
        "#(keep = False) is passed cause we want to code to return all duplicates\n",
        "df_st.head(6)"
      ],
      "execution_count": 55,
      "outputs": [
        {
          "output_type": "execute_result",
          "data": {
            "text/html": [
              "<div>\n",
              "<style scoped>\n",
              "    .dataframe tbody tr th:only-of-type {\n",
              "        vertical-align: middle;\n",
              "    }\n",
              "\n",
              "    .dataframe tbody tr th {\n",
              "        vertical-align: top;\n",
              "    }\n",
              "\n",
              "    .dataframe thead th {\n",
              "        text-align: right;\n",
              "    }\n",
              "</style>\n",
              "<table border=\"1\" class=\"dataframe\">\n",
              "  <thead>\n",
              "    <tr style=\"text-align: right;\">\n",
              "      <th></th>\n",
              "      <th>Order ID</th>\n",
              "      <th>Product</th>\n",
              "      <th>Quantity Ordered</th>\n",
              "      <th>Price Each</th>\n",
              "      <th>Order Date</th>\n",
              "      <th>Purchase Address</th>\n",
              "      <th>Month</th>\n",
              "      <th>Sale</th>\n",
              "      <th>Street</th>\n",
              "      <th>City</th>\n",
              "      <th>State(ZIP)</th>\n",
              "      <th>Hour</th>\n",
              "    </tr>\n",
              "  </thead>\n",
              "  <tbody>\n",
              "    <tr>\n",
              "      <th>3</th>\n",
              "      <td>176560</td>\n",
              "      <td>Google Phone</td>\n",
              "      <td>1</td>\n",
              "      <td>600.00</td>\n",
              "      <td>2019-04-12 14:38:00</td>\n",
              "      <td>669 Spruce St, Los Angeles, CA 90001</td>\n",
              "      <td>4</td>\n",
              "      <td>600.00</td>\n",
              "      <td>669 Spruce St</td>\n",
              "      <td>Los Angeles</td>\n",
              "      <td>CA 90001</td>\n",
              "      <td>14</td>\n",
              "    </tr>\n",
              "    <tr>\n",
              "      <th>4</th>\n",
              "      <td>176560</td>\n",
              "      <td>Wired Headphones</td>\n",
              "      <td>1</td>\n",
              "      <td>11.99</td>\n",
              "      <td>2019-04-12 14:38:00</td>\n",
              "      <td>669 Spruce St, Los Angeles, CA 90001</td>\n",
              "      <td>4</td>\n",
              "      <td>11.99</td>\n",
              "      <td>669 Spruce St</td>\n",
              "      <td>Los Angeles</td>\n",
              "      <td>CA 90001</td>\n",
              "      <td>14</td>\n",
              "    </tr>\n",
              "    <tr>\n",
              "      <th>18</th>\n",
              "      <td>176574</td>\n",
              "      <td>Google Phone</td>\n",
              "      <td>1</td>\n",
              "      <td>600.00</td>\n",
              "      <td>2019-04-03 19:42:00</td>\n",
              "      <td>20 Hill St, Los Angeles, CA 90001</td>\n",
              "      <td>4</td>\n",
              "      <td>600.00</td>\n",
              "      <td>20 Hill St</td>\n",
              "      <td>Los Angeles</td>\n",
              "      <td>CA 90001</td>\n",
              "      <td>19</td>\n",
              "    </tr>\n",
              "    <tr>\n",
              "      <th>19</th>\n",
              "      <td>176574</td>\n",
              "      <td>USB-C Charging Cable</td>\n",
              "      <td>1</td>\n",
              "      <td>11.95</td>\n",
              "      <td>2019-04-03 19:42:00</td>\n",
              "      <td>20 Hill St, Los Angeles, CA 90001</td>\n",
              "      <td>4</td>\n",
              "      <td>11.95</td>\n",
              "      <td>20 Hill St</td>\n",
              "      <td>Los Angeles</td>\n",
              "      <td>CA 90001</td>\n",
              "      <td>19</td>\n",
              "    </tr>\n",
              "    <tr>\n",
              "      <th>30</th>\n",
              "      <td>176585</td>\n",
              "      <td>Bose SoundSport Headphones</td>\n",
              "      <td>1</td>\n",
              "      <td>99.99</td>\n",
              "      <td>2019-04-07 11:31:00</td>\n",
              "      <td>823 Highland St, Boston, MA 02215</td>\n",
              "      <td>4</td>\n",
              "      <td>99.99</td>\n",
              "      <td>823 Highland St</td>\n",
              "      <td>Boston</td>\n",
              "      <td>MA 02215</td>\n",
              "      <td>11</td>\n",
              "    </tr>\n",
              "    <tr>\n",
              "      <th>31</th>\n",
              "      <td>176585</td>\n",
              "      <td>Bose SoundSport Headphones</td>\n",
              "      <td>1</td>\n",
              "      <td>99.99</td>\n",
              "      <td>2019-04-07 11:31:00</td>\n",
              "      <td>823 Highland St, Boston, MA 02215</td>\n",
              "      <td>4</td>\n",
              "      <td>99.99</td>\n",
              "      <td>823 Highland St</td>\n",
              "      <td>Boston</td>\n",
              "      <td>MA 02215</td>\n",
              "      <td>11</td>\n",
              "    </tr>\n",
              "  </tbody>\n",
              "</table>\n",
              "</div>"
            ],
            "text/plain": [
              "   Order ID                     Product  ...  State(ZIP)  Hour\n",
              "3    176560                Google Phone  ...    CA 90001    14\n",
              "4    176560            Wired Headphones  ...    CA 90001    14\n",
              "18   176574                Google Phone  ...    CA 90001    19\n",
              "19   176574        USB-C Charging Cable  ...    CA 90001    19\n",
              "30   176585  Bose SoundSport Headphones  ...    MA 02215    11\n",
              "31   176585  Bose SoundSport Headphones  ...    MA 02215    11\n",
              "\n",
              "[6 rows x 12 columns]"
            ]
          },
          "metadata": {},
          "execution_count": 55
        }
      ]
    },
    {
      "cell_type": "markdown",
      "metadata": {
        "id": "dkq1yfy7lw_O"
      },
      "source": [
        "#### add a new column Grouped which contains the products having the same orderID"
      ]
    },
    {
      "cell_type": "code",
      "metadata": {
        "colab": {
          "base_uri": "https://localhost:8080/",
          "height": 666
        },
        "id": "92OrkyLny5qC",
        "outputId": "6d923956-d528-4876-f725-b31392bfccc9"
      },
      "source": [
        "df_st['Grouped'] = df_st.groupby('Order ID')['Product'].transform(lambda x: ','.join(x))\n",
        "df_st.head()\n",
        "\n",
        "# has duplicates"
      ],
      "execution_count": 59,
      "outputs": [
        {
          "output_type": "stream",
          "name": "stderr",
          "text": [
            "/usr/local/lib/python3.7/dist-packages/ipykernel_launcher.py:1: SettingWithCopyWarning: \n",
            "A value is trying to be set on a copy of a slice from a DataFrame.\n",
            "Try using .loc[row_indexer,col_indexer] = value instead\n",
            "\n",
            "See the caveats in the documentation: https://pandas.pydata.org/pandas-docs/stable/user_guide/indexing.html#returning-a-view-versus-a-copy\n",
            "  \"\"\"Entry point for launching an IPython kernel.\n"
          ]
        },
        {
          "output_type": "execute_result",
          "data": {
            "text/html": [
              "<div>\n",
              "<style scoped>\n",
              "    .dataframe tbody tr th:only-of-type {\n",
              "        vertical-align: middle;\n",
              "    }\n",
              "\n",
              "    .dataframe tbody tr th {\n",
              "        vertical-align: top;\n",
              "    }\n",
              "\n",
              "    .dataframe thead th {\n",
              "        text-align: right;\n",
              "    }\n",
              "</style>\n",
              "<table border=\"1\" class=\"dataframe\">\n",
              "  <thead>\n",
              "    <tr style=\"text-align: right;\">\n",
              "      <th></th>\n",
              "      <th>Order ID</th>\n",
              "      <th>Product</th>\n",
              "      <th>Quantity Ordered</th>\n",
              "      <th>Price Each</th>\n",
              "      <th>Order Date</th>\n",
              "      <th>Purchase Address</th>\n",
              "      <th>Month</th>\n",
              "      <th>Sale</th>\n",
              "      <th>Street</th>\n",
              "      <th>City</th>\n",
              "      <th>State(ZIP)</th>\n",
              "      <th>Hour</th>\n",
              "      <th>Grouped</th>\n",
              "    </tr>\n",
              "  </thead>\n",
              "  <tbody>\n",
              "    <tr>\n",
              "      <th>3</th>\n",
              "      <td>176560</td>\n",
              "      <td>Google Phone</td>\n",
              "      <td>1</td>\n",
              "      <td>600.00</td>\n",
              "      <td>2019-04-12 14:38:00</td>\n",
              "      <td>669 Spruce St, Los Angeles, CA 90001</td>\n",
              "      <td>4</td>\n",
              "      <td>600.00</td>\n",
              "      <td>669 Spruce St</td>\n",
              "      <td>Los Angeles</td>\n",
              "      <td>CA 90001</td>\n",
              "      <td>14</td>\n",
              "      <td>Google Phone,Wired Headphones</td>\n",
              "    </tr>\n",
              "    <tr>\n",
              "      <th>4</th>\n",
              "      <td>176560</td>\n",
              "      <td>Wired Headphones</td>\n",
              "      <td>1</td>\n",
              "      <td>11.99</td>\n",
              "      <td>2019-04-12 14:38:00</td>\n",
              "      <td>669 Spruce St, Los Angeles, CA 90001</td>\n",
              "      <td>4</td>\n",
              "      <td>11.99</td>\n",
              "      <td>669 Spruce St</td>\n",
              "      <td>Los Angeles</td>\n",
              "      <td>CA 90001</td>\n",
              "      <td>14</td>\n",
              "      <td>Google Phone,Wired Headphones</td>\n",
              "    </tr>\n",
              "    <tr>\n",
              "      <th>18</th>\n",
              "      <td>176574</td>\n",
              "      <td>Google Phone</td>\n",
              "      <td>1</td>\n",
              "      <td>600.00</td>\n",
              "      <td>2019-04-03 19:42:00</td>\n",
              "      <td>20 Hill St, Los Angeles, CA 90001</td>\n",
              "      <td>4</td>\n",
              "      <td>600.00</td>\n",
              "      <td>20 Hill St</td>\n",
              "      <td>Los Angeles</td>\n",
              "      <td>CA 90001</td>\n",
              "      <td>19</td>\n",
              "      <td>Google Phone,USB-C Charging Cable</td>\n",
              "    </tr>\n",
              "    <tr>\n",
              "      <th>19</th>\n",
              "      <td>176574</td>\n",
              "      <td>USB-C Charging Cable</td>\n",
              "      <td>1</td>\n",
              "      <td>11.95</td>\n",
              "      <td>2019-04-03 19:42:00</td>\n",
              "      <td>20 Hill St, Los Angeles, CA 90001</td>\n",
              "      <td>4</td>\n",
              "      <td>11.95</td>\n",
              "      <td>20 Hill St</td>\n",
              "      <td>Los Angeles</td>\n",
              "      <td>CA 90001</td>\n",
              "      <td>19</td>\n",
              "      <td>Google Phone,USB-C Charging Cable</td>\n",
              "    </tr>\n",
              "    <tr>\n",
              "      <th>30</th>\n",
              "      <td>176585</td>\n",
              "      <td>Bose SoundSport Headphones</td>\n",
              "      <td>1</td>\n",
              "      <td>99.99</td>\n",
              "      <td>2019-04-07 11:31:00</td>\n",
              "      <td>823 Highland St, Boston, MA 02215</td>\n",
              "      <td>4</td>\n",
              "      <td>99.99</td>\n",
              "      <td>823 Highland St</td>\n",
              "      <td>Boston</td>\n",
              "      <td>MA 02215</td>\n",
              "      <td>11</td>\n",
              "      <td>Bose SoundSport Headphones,Bose SoundSport Hea...</td>\n",
              "    </tr>\n",
              "  </tbody>\n",
              "</table>\n",
              "</div>"
            ],
            "text/plain": [
              "   Order ID  ...                                            Grouped\n",
              "3    176560  ...                      Google Phone,Wired Headphones\n",
              "4    176560  ...                      Google Phone,Wired Headphones\n",
              "18   176574  ...                  Google Phone,USB-C Charging Cable\n",
              "19   176574  ...                  Google Phone,USB-C Charging Cable\n",
              "30   176585  ...  Bose SoundSport Headphones,Bose SoundSport Hea...\n",
              "\n",
              "[5 rows x 13 columns]"
            ]
          },
          "metadata": {},
          "execution_count": 59
        }
      ]
    },
    {
      "cell_type": "code",
      "metadata": {
        "id": "D4YcJ-GfpWhs"
      },
      "source": [
        ""
      ],
      "execution_count": null,
      "outputs": []
    },
    {
      "cell_type": "markdown",
      "metadata": {
        "id": "bnJd3Y5foY7e"
      },
      "source": [
        "#### Analyse and plot"
      ]
    },
    {
      "cell_type": "code",
      "metadata": {
        "colab": {
          "base_uri": "https://localhost:8080/",
          "height": 419
        },
        "id": "FSiu9sDzpZK1",
        "outputId": "4f3d5b3e-b914-4b38-d8e2-818576785dcf"
      },
      "source": [
        "df_st1 = df_st[['Grouped','Order ID']].drop_duplicates()\n",
        "df_st1"
      ],
      "execution_count": 66,
      "outputs": [
        {
          "output_type": "execute_result",
          "data": {
            "text/html": [
              "<div>\n",
              "<style scoped>\n",
              "    .dataframe tbody tr th:only-of-type {\n",
              "        vertical-align: middle;\n",
              "    }\n",
              "\n",
              "    .dataframe tbody tr th {\n",
              "        vertical-align: top;\n",
              "    }\n",
              "\n",
              "    .dataframe thead th {\n",
              "        text-align: right;\n",
              "    }\n",
              "</style>\n",
              "<table border=\"1\" class=\"dataframe\">\n",
              "  <thead>\n",
              "    <tr style=\"text-align: right;\">\n",
              "      <th></th>\n",
              "      <th>Grouped</th>\n",
              "      <th>Order ID</th>\n",
              "    </tr>\n",
              "  </thead>\n",
              "  <tbody>\n",
              "    <tr>\n",
              "      <th>3</th>\n",
              "      <td>Google Phone,Wired Headphones</td>\n",
              "      <td>176560</td>\n",
              "    </tr>\n",
              "    <tr>\n",
              "      <th>18</th>\n",
              "      <td>Google Phone,USB-C Charging Cable</td>\n",
              "      <td>176574</td>\n",
              "    </tr>\n",
              "    <tr>\n",
              "      <th>30</th>\n",
              "      <td>Bose SoundSport Headphones,Bose SoundSport Hea...</td>\n",
              "      <td>176585</td>\n",
              "    </tr>\n",
              "    <tr>\n",
              "      <th>32</th>\n",
              "      <td>AAA Batteries (4-pack),Google Phone</td>\n",
              "      <td>176586</td>\n",
              "    </tr>\n",
              "    <tr>\n",
              "      <th>119</th>\n",
              "      <td>Lightning Charging Cable,USB-C Charging Cable</td>\n",
              "      <td>176672</td>\n",
              "    </tr>\n",
              "    <tr>\n",
              "      <th>...</th>\n",
              "      <td>...</td>\n",
              "      <td>...</td>\n",
              "    </tr>\n",
              "    <tr>\n",
              "      <th>186627</th>\n",
              "      <td>iPhone,Lightning Charging Cable</td>\n",
              "      <td>150287</td>\n",
              "    </tr>\n",
              "    <tr>\n",
              "      <th>186644</th>\n",
              "      <td>iPhone,Lightning Charging Cable</td>\n",
              "      <td>150303</td>\n",
              "    </tr>\n",
              "    <tr>\n",
              "      <th>186665</th>\n",
              "      <td>Google Phone,USB-C Charging Cable,Apple Airpod...</td>\n",
              "      <td>150323</td>\n",
              "    </tr>\n",
              "    <tr>\n",
              "      <th>186679</th>\n",
              "      <td>iPhone,Apple Airpods Headphones</td>\n",
              "      <td>150335</td>\n",
              "    </tr>\n",
              "    <tr>\n",
              "      <th>186779</th>\n",
              "      <td>Flatscreen TV,Google Phone</td>\n",
              "      <td>150433</td>\n",
              "    </tr>\n",
              "  </tbody>\n",
              "</table>\n",
              "<p>7136 rows × 2 columns</p>\n",
              "</div>"
            ],
            "text/plain": [
              "                                                  Grouped Order ID\n",
              "3                           Google Phone,Wired Headphones   176560\n",
              "18                      Google Phone,USB-C Charging Cable   176574\n",
              "30      Bose SoundSport Headphones,Bose SoundSport Hea...   176585\n",
              "32                    AAA Batteries (4-pack),Google Phone   176586\n",
              "119         Lightning Charging Cable,USB-C Charging Cable   176672\n",
              "...                                                   ...      ...\n",
              "186627                    iPhone,Lightning Charging Cable   150287\n",
              "186644                    iPhone,Lightning Charging Cable   150303\n",
              "186665  Google Phone,USB-C Charging Cable,Apple Airpod...   150323\n",
              "186679                    iPhone,Apple Airpods Headphones   150335\n",
              "186779                         Flatscreen TV,Google Phone   150433\n",
              "\n",
              "[7136 rows x 2 columns]"
            ]
          },
          "metadata": {},
          "execution_count": 66
        }
      ]
    },
    {
      "cell_type": "code",
      "metadata": {
        "id": "9Dniw9Ub0ovd"
      },
      "source": [
        "df_st2 = df_st1[['Grouped','Order ID']].groupby('Grouped').count().sort_values('Order ID', ascending = False)"
      ],
      "execution_count": 76,
      "outputs": []
    },
    {
      "cell_type": "code",
      "metadata": {
        "colab": {
          "base_uri": "https://localhost:8080/",
          "height": 390
        },
        "id": "SEJHCZbXoozy",
        "outputId": "92e1ec6c-fb8d-4f1b-97e6-5cc4117e4117"
      },
      "source": [
        "df_st2 = df_st2.head(10)\n",
        "df_st2"
      ],
      "execution_count": 97,
      "outputs": [
        {
          "output_type": "execute_result",
          "data": {
            "text/html": [
              "<div>\n",
              "<style scoped>\n",
              "    .dataframe tbody tr th:only-of-type {\n",
              "        vertical-align: middle;\n",
              "    }\n",
              "\n",
              "    .dataframe tbody tr th {\n",
              "        vertical-align: top;\n",
              "    }\n",
              "\n",
              "    .dataframe thead th {\n",
              "        text-align: right;\n",
              "    }\n",
              "</style>\n",
              "<table border=\"1\" class=\"dataframe\">\n",
              "  <thead>\n",
              "    <tr style=\"text-align: right;\">\n",
              "      <th></th>\n",
              "      <th>Order ID</th>\n",
              "    </tr>\n",
              "    <tr>\n",
              "      <th>Grouped</th>\n",
              "      <th></th>\n",
              "    </tr>\n",
              "  </thead>\n",
              "  <tbody>\n",
              "    <tr>\n",
              "      <th>iPhone,Lightning Charging Cable</th>\n",
              "      <td>882</td>\n",
              "    </tr>\n",
              "    <tr>\n",
              "      <th>Google Phone,USB-C Charging Cable</th>\n",
              "      <td>856</td>\n",
              "    </tr>\n",
              "    <tr>\n",
              "      <th>iPhone,Wired Headphones</th>\n",
              "      <td>361</td>\n",
              "    </tr>\n",
              "    <tr>\n",
              "      <th>Vareebadd Phone,USB-C Charging Cable</th>\n",
              "      <td>312</td>\n",
              "    </tr>\n",
              "    <tr>\n",
              "      <th>Google Phone,Wired Headphones</th>\n",
              "      <td>303</td>\n",
              "    </tr>\n",
              "    <tr>\n",
              "      <th>iPhone,Apple Airpods Headphones</th>\n",
              "      <td>286</td>\n",
              "    </tr>\n",
              "    <tr>\n",
              "      <th>Google Phone,Bose SoundSport Headphones</th>\n",
              "      <td>161</td>\n",
              "    </tr>\n",
              "    <tr>\n",
              "      <th>Vareebadd Phone,Wired Headphones</th>\n",
              "      <td>104</td>\n",
              "    </tr>\n",
              "    <tr>\n",
              "      <th>Google Phone,USB-C Charging Cable,Wired Headphones</th>\n",
              "      <td>77</td>\n",
              "    </tr>\n",
              "    <tr>\n",
              "      <th>Vareebadd Phone,Bose SoundSport Headphones</th>\n",
              "      <td>60</td>\n",
              "    </tr>\n",
              "  </tbody>\n",
              "</table>\n",
              "</div>"
            ],
            "text/plain": [
              "                                                    Order ID\n",
              "Grouped                                                     \n",
              "iPhone,Lightning Charging Cable                          882\n",
              "Google Phone,USB-C Charging Cable                        856\n",
              "iPhone,Wired Headphones                                  361\n",
              "Vareebadd Phone,USB-C Charging Cable                     312\n",
              "Google Phone,Wired Headphones                            303\n",
              "iPhone,Apple Airpods Headphones                          286\n",
              "Google Phone,Bose SoundSport Headphones                  161\n",
              "Vareebadd Phone,Wired Headphones                         104\n",
              "Google Phone,USB-C Charging Cable,Wired Headphones        77\n",
              "Vareebadd Phone,Bose SoundSport Headphones                60"
            ]
          },
          "metadata": {},
          "execution_count": 97
        }
      ]
    },
    {
      "cell_type": "code",
      "metadata": {
        "colab": {
          "base_uri": "https://localhost:8080/",
          "height": 465
        },
        "id": "2MRlOZYUqpr9",
        "outputId": "13a97826-1eef-4cae-8580-c38345535f60"
      },
      "source": [
        "plt.figure(figsize = (10,7))\n",
        "plt.title(\"Products sold together\", fontsize = 18, color = 'r')\n",
        "plt.barh(df_st2.index, df_st2['Order ID'], color = 'skyblue')"
      ],
      "execution_count": 98,
      "outputs": [
        {
          "output_type": "execute_result",
          "data": {
            "text/plain": [
              "<BarContainer object of 10 artists>"
            ]
          },
          "metadata": {},
          "execution_count": 98
        },
        {
          "output_type": "display_data",
          "data": {
            "image/png": "[encoded data removed]",
            "text/plain": [
              "<Figure size 720x504 with 1 Axes>"
            ]
          },
          "metadata": {
            "needs_background": "light"
          }
        }
      ]
    },
    {
      "cell_type": "code",
      "metadata": {
        "id": "1s6FgR0Hqt0A"
      },
      "source": [
        ""
      ],
      "execution_count": null,
      "outputs": []
    }
  ]
}